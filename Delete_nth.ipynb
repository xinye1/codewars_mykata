{
 "cells": [
  {
   "cell_type": "code",
   "execution_count": 31,
   "metadata": {
    "collapsed": false
   },
   "outputs": [
    {
     "data": {
      "text/plain": [
       "[20, 37, 21]"
      ]
     },
     "execution_count": 31,
     "metadata": {},
     "output_type": "execute_result"
    }
   ],
   "source": [
    "def delete_nth(order,max_e):\n",
    "    order_dict = dict(zip(list(set(order)), [0] * len(set(order))))\n",
    "    out = []\n",
    "    for i in range(len(order)):\n",
    "        e = order[i]\n",
    "        order_dict[e] += 1\n",
    "        if order_dict.get(e) <= max_e:\n",
    "            out.append(e)\n",
    "    return(out)\n",
    "delete_nth([20,37,20,21], 1)"
   ]
  }
 ],
 "metadata": {
  "kernelspec": {
   "display_name": "Python 3",
   "language": "python",
   "name": "python3"
  },
  "language_info": {
   "codemirror_mode": {
    "name": "ipython",
    "version": 3
   },
   "file_extension": ".py",
   "mimetype": "text/x-python",
   "name": "python",
   "nbconvert_exporter": "python",
   "pygments_lexer": "ipython3",
   "version": "3.6.0"
  }
 },
 "nbformat": 4,
 "nbformat_minor": 2
}
