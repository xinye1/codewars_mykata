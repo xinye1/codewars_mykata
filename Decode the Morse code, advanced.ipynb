{
 "cells": [
  {
   "cell_type": "markdown",
   "metadata": {},
   "source": [
    "Part of Series 2/3\n",
    "_This kata is part of a series on the Morse code. Make sure you solve the [previous part](https://www.codewars.com/kata/decode-the-morse-code) before you try this one. After you solve this kata, you may move to the [next one](https://www.codewars.com/kata/decode-the-morse-code-for-real)._\n",
    "\n",
    "In this kata you have to write a [Morse code](https://en.wikipedia.org/wiki/Morse_code) decoder for [wired electrical telegraph](https://en.wikipedia.org/wiki/Electrical_telegraph).\n",
    "\n",
    "Electric telegraph is operated on a 2-wire line with a key that, when pressed, connects the wires together, which can be detected on a remote station. The Morse code encodes every character being transmitted as a sequence of \"dots\" (short presses on the key) and \"dashes\" (long presses on the key).\n",
    "\n",
    "When transmitting the Morse code, the international standard specifies that:\n",
    "\n",
    "* \"Dot\" – is 1 time unit long.\n",
    "* \"Dash\" – is 3 time units long.\n",
    "* Pause between dots and dashes in a character – is 1 time unit long.\n",
    "* Pause between characters inside a word – is 3 time units long.\n",
    "* Pause between words – is 7 time units long.\n",
    "\n",
    "However, the standard does not specify how long that \"time unit\" is. And in fact different operators would transmit at different speed. An amature person may need a few seconds to transmit a single character, a skilled professional can transmit 60 words per minute, and robotic transmitters may go way faster.\n",
    "\n",
    "For this kata we assume the message receiving is performed automatically by the hardware that checks the line periodically, and if the line is connected (the key at the remote station is down), `1` is recorded, and if the line is not connected (remote key is up), `0` is recorded. After the message is fully received, it gets to you for decoding as a string containing only symbols `0` and `1`.\n",
    "\n",
    "For example, the message `HEY JUDE`, that is `···· · −·−−   ·−−− ··− −·· ·` may be received as follows:\n",
    "```\n",
    "1100110011001100000011000000111111001100111111001111110000000000000011001111110011111100111111000000110011001111110000001111110011001100000011\n",
    "```\n",
    "\n",
    "As you may see, this transmission is perfectly accurate according to the standard, and the hardware sampled the line exactly two times per \"dot\".\n",
    "\n",
    "That said, your task is to implement two functions:\n",
    "\n",
    "1. Function `decodeBits(bits)`, that should find out the transmission rate of the message, correctly decode the message to dots ., dashes - and spaces (one between characters, three between words) and return those as a string. Note that some extra 0's may naturally occur at the beginning and the end of a message, make sure to ignore them. Also if you have trouble discerning if the particular sequence of 1's is a dot or a dash, assume it's a dot.\n",
    "2. Function `decodeMorse(morseCode)`, that would take the output of the previous function and return a human-readable string.\n",
    "\n",
    "The Morse code table is preloaded for you as `MORSE_CODE` dictionary (`MorseCode` class for Java), feel free to use it.\n",
    "\n",
    "All the test strings would be valid to the point that they could be reliably decoded as described above, so you may skip checking for errors and exceptions, just do your best in figuring out what the message is!\n",
    "\n",
    "Good luck!\n",
    "\n",
    "After you master this kata, you may try to Decode the Morse code, for real.\n",
    "\n",
    "\n",
    "#### Morse code\n",
    "```python\n",
    "MORSE_CODE = {'..-.': 'F', '-..-': 'X',\n",
    "    '.--.': 'P', '-': 'T', '..---': '2',\n",
    "    '....-': '4', '-----': '0', '--...': '7',\n",
    "    '...-': 'V', '-.-.': 'C', '.': 'E', '.---': 'J',\n",
    "    '---': 'O', '-.-': 'K', '----.': '9', '..': 'I',\n",
    "    '.-..': 'L', '.....': '5', '...--': '3', '-.--': 'Y',\n",
    "    '-....': '6', '.--': 'W', '....': 'H', '-.': 'N', '.-.': 'R',\n",
    "    '-...': 'B', '---..': '8', '--..': 'Z', '-..': 'D', '--.-': 'Q',\n",
    "    '--.': 'G', '--': 'M', '..-': 'U', '.-': 'A', '...': 'S', '.----': '1'}\n",
    "```"
   ]
  },
  {
   "cell_type": "code",
   "execution_count": 153,
   "metadata": {
    "collapsed": false,
    "scrolled": true
   },
   "outputs": [
    {
     "name": "stdout",
     "output_type": "stream",
     "text": [
      "HEY JUDE\n"
     ]
    }
   ],
   "source": [
    "MORSE_CODE = {'..-.': 'F', '-..-': 'X',\n",
    "    '.--.': 'P', '-': 'T', '..---': '2',\n",
    "    '....-': '4', '-----': '0', '--...': '7',\n",
    "    '...-': 'V', '-.-.': 'C', '.': 'E', '.---': 'J',\n",
    "    '---': 'O', '-.-': 'K', '----.': '9', '..': 'I',\n",
    "    '.-..': 'L', '.....': '5', '...--': '3', '-.--': 'Y',\n",
    "    '-....': '6', '.--': 'W', '....': 'H', '-.': 'N', '.-.': 'R',\n",
    "    '-...': 'B', '---..': '8', '--..': 'Z', '-..': 'D', '--.-': 'Q',\n",
    "    '--.': 'G', '--': 'M', '..-': 'U', '.-': 'A', '...': 'S', '.----': '1'}\n",
    "import re\n",
    "def decodeBits(bits):\n",
    "    bits = re.search(r'^(0*)(.*)(1+)(0*)$', bits)\n",
    "    bit_groups = bits.groups()\n",
    "    bits = ''.join(bit_groups[1:(len(bit_groups)-1)])\n",
    "    \n",
    "    # work out the minimum length of 0s for transmission rate\n",
    "    if bits == '': return('')\n",
    "    if re.search(r'1', bits):\n",
    "        rate = min([len(x.group()) for x in re.compile(r'(\\w)\\1*').finditer(bits) if x != ''])\n",
    "    else:\n",
    "        rate = len(bits)\n",
    "    \n",
    "    # code pattern definition\n",
    "    dot = 1\n",
    "    dash = 3\n",
    "    pause_code = 1\n",
    "    pause_char = 3\n",
    "    pause_word = 7\n",
    "    \n",
    "    # decode\n",
    "    code = bits.replace('0' * pause_word * rate, '   ').\\\n",
    "        replace('0' * pause_char * rate, ' ').\\\n",
    "        replace('1' * dash * rate, '-').\\\n",
    "        replace('1' * dot * rate, '.').\\\n",
    "        replace('0' * pause_code * rate, '')\n",
    "    \n",
    "    return(code)\n",
    "\n",
    "\n",
    "def decodeMorse(morseCode):\n",
    "    letter_list = [x.split(' ') for x in morseCode.strip().split('   ')]\n",
    "    words = []\n",
    "    for word in letter_list:\n",
    "        words.append(''.join([MORSE_CODE[letter] for letter in word]))\n",
    "    out = ' '.join(words)\n",
    "    return(out)\n",
    "            \n",
    "signal = '1100110011001100000011000000111111001100111111001111110000000000000011001111110011111100111111000000110011001111110000001111110011001100000011'\n",
    "signal3 = '11111001'\n",
    "#print(decodeBits(signal3)) # should return '···· · −·−−   ·−−− ··− −·· ·'\n",
    "print(decodeMorse(decodeBits(signal))) # should return 'HEY JUDE'"
   ]
  },
  {
   "cell_type": "code",
   "execution_count": 151,
   "metadata": {
    "collapsed": false
   },
   "outputs": [
    {
     "data": {
      "text/plain": [
       "['11111', '00', '1']"
      ]
     },
     "execution_count": 151,
     "metadata": {},
     "output_type": "execute_result"
    }
   ],
   "source": [
    "[i.group() for i in re.compile(r'(\\w)\\1*').finditer(signal3)]"
   ]
  }
 ],
 "metadata": {
  "kernelspec": {
   "display_name": "Python 3",
   "language": "python",
   "name": "python3"
  },
  "language_info": {
   "codemirror_mode": {
    "name": "ipython",
    "version": 3
   },
   "file_extension": ".py",
   "mimetype": "text/x-python",
   "name": "python",
   "nbconvert_exporter": "python",
   "pygments_lexer": "ipython3",
   "version": "3.6.0"
  }
 },
 "nbformat": 4,
 "nbformat_minor": 2
}
