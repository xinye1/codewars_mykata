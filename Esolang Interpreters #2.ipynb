{
 "cells": [
  {
   "cell_type": "markdown",
   "metadata": {},
   "source": [
    "### Description:\n",
    "\n",
    "For the rest of this Kata, I would recommend considering \"fuck\" to be non-profane.\n",
    "\n",
    "## Esolang Interpreters #2 - Custom Smallfuck Interpreter\n",
    "\n",
    "### About this Kata Series\n",
    "\n",
    "\"Esolang Interpreters\" is a Kata Series that originally began as three separate, independent esolang interpreter Kata authored by @donaldsebleung which all shared a similar format and were all somewhat inter-related. Under the influence of a fellow Codewarrior, these three high-level inter-related Kata gradually evolved into what is known today as the \"Esolang Interpreters\" series.\n",
    "\n",
    "This series is a high-level Kata Series designed to challenge the minds of bright and daring programmers by implementing interpreters for various esoteric programming languages/Esolangs, mainly Brainfuck derivatives but not limited to them, given a certain specification for a certain Esolang. Perhaps the only exception to this rule is the very first Kata in this Series which is intended as an introduction/taster to the world of esoteric programming languages and writing interpreters for them.\n",
    "\n",
    "### The Language\n",
    "\n",
    "Smallfuck is an [esoteric programming language/Esolang](http://esolangs.org/) invented in 2002 which is a sized-down variant of the famous [Brainfuck](http://esolangs.org/wiki/Brainfuck) Esolang. Key differences include:\n",
    "\n",
    "* Smallfuck operates only on bits as opposed to bytes\n",
    "* It has a limited data storage which varies from implementation to implementation depending on the size of the tape\n",
    "* It does not define input or output - the \"input\" is encoded in the initial state of the data storage (tape) and the \"output\" should be decoded in the final state of the data storage (tape)\n",
    "\n",
    "Here are a list of commands in Smallfuck:\n",
    "\n",
    "* `>` - Move pointer to the right (by 1 cell)\n",
    "* `<` - Move pointer to the left (by 1 cell)\n",
    "* `*` - Flip the bit at the current cell\n",
    "* `[` - Jump past matching `]` if value at current cell is 0\n",
    "* `]` - Jump back to matching `[` (if value at current cell is nonzero)\n",
    "\n",
    "As opposed to Brainfuck where a program terminates only when all of the commands in the program have been considered (left to right), Smallfuck terminates when any of the two conditions mentioned below become true:\n",
    "\n",
    "* All commands have been considered from left to right\n",
    "* The pointer goes out-of-bounds (i.e. if it moves to the left of the first cell or to the right of the last cell of the tape)\n",
    "\n",
    "Smallfuck is considered to be Turing-complete if and only if it had a tape of infinite length; however, since the length of the tape is always defined as finite (as the interpreter cannot return a tape of infinite length), its computational class is of bounded-storage machines with bounded input.\n",
    "\n",
    "More information on this Esolang can be found [here](http://esolangs.org/wiki/Smallfuck).\n",
    "\n",
    "### The Task\n",
    "\n",
    "Implement a custom Smallfuck interpreter `interpreter()` which accepts the following arguments:\n",
    "\n",
    "1. `code` - Required. The Smallfuck program to be executed, passed in as a string. May contain non-command characters. Your interpreter should simply ignore any non-command characters.\n",
    "1. `tape` - Required. The initial state of the data storage (tape), passed in as a string. For example, if the string `\"00101100\"` is passed in then it should translate to something of this form within your interpreter: `[0, 0, 1, 0, 1, 1, 0, 0]`. You may assume that all input strings for tape will be non-empty and will only contain `\"0\"`s and `\"1\"`s.\n",
    "Your interpreter should return the final state of the data storage (tape) as a string in the same format that it was passed in. For example, if the tape in your interpreter ends up being `[1, 1, 1, 1, 1]` then return the string `\"11111\"`.\n",
    "\n",
    "_NOTE: The pointer of the interpreter always starts from the first (leftmost) cell of the tape, same as in Brainfuck._\n",
    "\n",
    "Good luck :D\n",
    "\n",
    "### Kata in this Series\n",
    "\n",
    "1. [Esolang Interpreters #1 - Introduction to Esolangs and My First Interpreter (MiniStringFuck)](https://www.codewars.com/kata/esolang-interpreters-number-1-introduction-to-esolangs-and-my-first-interpreter-ministringfuck)\n",
    "1. [Esolang Interpreters #2 - Custom Smallfuck Interpreter](https://www.codewars.com/kata/esolang-interpreters-number-2-custom-smallfuck-interpreter)\n",
    "1. [Esolang Interpreters #3 - Custom Paintfuck Interpreter](http://codewars.com/kata/esolang-interpreters-number-3-custom-paintf-star-star-k-interpreter)\n",
    "1. [Esolang Interpreters #4 - Boolfuck Interpreter](http://codewars.com/kata/esolang-interpreters-number-4-boolfuck-interpreter)"
   ]
  },
  {
   "cell_type": "code",
   "execution_count": 16,
   "metadata": {
    "collapsed": false
   },
   "outputs": [
    {
     "name": "stdout",
     "output_type": "stream",
     "text": [
      "11111111\n",
      "11010011\n",
      "00000000\n"
     ]
    }
   ],
   "source": [
    "def jumpForward(current_pos, tape):\n",
    "    pass\n",
    "\n",
    "\n",
    "def jumpBackward(current_pos, tape):\n",
    "    pass\n",
    "\n",
    "def flip(x):\n",
    "    if x == '0': return('1')\n",
    "    return('0')\n",
    "\n",
    "def interpreter(code, tape):\n",
    "    tape = [x for x in tape]\n",
    "    pos = 0\n",
    "    for i, c in enumerate(code):\n",
    "        if 0 <= pos <= (len(tape) - 1):\n",
    "            if c == '>':\n",
    "                pos += 1\n",
    "            elif c == '<':\n",
    "                pos -= 1\n",
    "            elif c == '[':\n",
    "                pos += jumpForward(pos, code)\n",
    "            elif c == ']':\n",
    "                pos += jumpBackward(pos, code)\n",
    "            elif c == '*':\n",
    "                tape[pos] = flip(tape[pos])\n",
    "        else:\n",
    "            return(''.join(tape))\n",
    "    return(''.join(tape))\n",
    "\n",
    "    \n",
    "print(interpreter(\"*>*>>*>>>*>*\", \"00101100\")) # --> \"11111111\"\n",
    "print(interpreter(\"*>*>*>*>*>*>*>*\", \"00101100\")) # --> \"11010011\"\n",
    "print(interpreter(\">>>>>*<*<<*\", \"00101100\")) # --> \"00000000\""
   ]
  }
 ],
 "metadata": {
  "kernelspec": {
   "display_name": "Python 3",
   "language": "python",
   "name": "python3"
  },
  "language_info": {
   "codemirror_mode": {
    "name": "ipython",
    "version": 3
   },
   "file_extension": ".py",
   "mimetype": "text/x-python",
   "name": "python",
   "nbconvert_exporter": "python",
   "pygments_lexer": "ipython3",
   "version": "3.6.0"
  }
 },
 "nbformat": 4,
 "nbformat_minor": 2
}
