{
 "cells": [
  {
   "cell_type": "code",
   "execution_count": 9,
   "metadata": {
    "collapsed": false
   },
   "outputs": [],
   "source": [
    "import numpy as np\n",
    "good = '1 1 1 3 4 5'\n",
    "evil = '1 1 3 1 4 6 3'"
   ]
  },
  {
   "cell_type": "code",
   "execution_count": 89,
   "metadata": {
    "collapsed": false
   },
   "outputs": [],
   "source": [
    "import numpy as np\n",
    "def goodVsEvil(good, evil):\n",
    "    strength_good = (1, 2, 3, 3, 4, 10)\n",
    "    strength_evil = (1, 2, 2, 2, 3, 5, 10)\n",
    "    good_wins = 'Good triumphs over Evil'\n",
    "    evil_wins = 'Evil eradicates all trace of Good'\n",
    "    tie = 'No victor on this battle field'\n",
    "    base_str = 'Battle Result:'\n",
    "    \n",
    "    good_count = []\n",
    "    evil_count = []\n",
    "    good = good.split(' ')\n",
    "    evil = evil.split(' ')\n",
    "    \n",
    "    \n",
    "    for e in good:\n",
    "        good_count.append(int(e))\n",
    "    for e in evil:\n",
    "        evil_count.append(int(e))\n",
    "        \n",
    "    good_score = np.dot(strength_good, good_count)\n",
    "    evil_score = np.dot(strength_evil, evil_count)\n",
    "    #return((good_score, evil_score))\n",
    "    \n",
    "    if good_score > evil_score:\n",
    "        return(base_str + ' ' + good_wins)\n",
    "    elif good_score < evil_score:\n",
    "        return(base_str + ' ' + evil_wins)\n",
    "    else:\n",
    "        return(base_str + ' ' + tie)"
   ]
  },
  {
   "cell_type": "code",
   "execution_count": 90,
   "metadata": {
    "collapsed": false
   },
   "outputs": [
    {
     "name": "stdout",
     "output_type": "stream",
     "text": [
      "Battle Result: Good triumphs over Evil\n",
      "Battle Result: Good triumphs over Evil\n",
      "Battle Result: Evil eradicates all trace of Good\n",
      "Battle Result: No victor on this battle field\n"
     ]
    }
   ],
   "source": [
    "print(goodVsEvil(good, evil))\n",
    "print(goodVsEvil('1 1 1 1 1 1', '1 1 1 1 1 1 1'))\n",
    "print(goodVsEvil('0 0 0 0 0 10', '0 1 1 1 1 0 0'))\n",
    "print(goodVsEvil('1 0 0 0 0 0', '1 0 0 0 0 0 0'))"
   ]
  }
 ],
 "metadata": {
  "kernelspec": {
   "display_name": "Python 3",
   "language": "python",
   "name": "python3"
  },
  "language_info": {
   "codemirror_mode": {
    "name": "ipython",
    "version": 3
   },
   "file_extension": ".py",
   "mimetype": "text/x-python",
   "name": "python",
   "nbconvert_exporter": "python",
   "pygments_lexer": "ipython3",
   "version": "3.6.0"
  }
 },
 "nbformat": 4,
 "nbformat_minor": 2
}
