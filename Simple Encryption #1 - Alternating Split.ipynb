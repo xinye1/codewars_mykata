{
 "cells": [
  {
   "cell_type": "markdown",
   "metadata": {},
   "source": [
    "* `\"This is a test!\", 1` -> `\"hsi  etTi sats!\"`\n",
    "* `\"This is a test!\", 2` -> `\"hsi  etTi sats!\"` -> `\"s eT ashi tist!\"`"
   ]
  },
  {
   "cell_type": "code",
   "execution_count": 89,
   "metadata": {
    "collapsed": false
   },
   "outputs": [
    {
     "name": "stdout",
     "output_type": "stream",
     "text": [
      "This kata is very interesting!\n",
      " Tah itse sits!\n"
     ]
    }
   ],
   "source": [
    "def decrypt(encrypted_text, n):\n",
    "    for i in range(n):\n",
    "        if len(encrypted_text) % 2 == 0:\n",
    "            t1 = encrypted_text[:(round(len(encrypted_text) / 2))]\n",
    "            t2 = encrypted_text[(round(len(encrypted_text) / 2)):]\n",
    "            encrypted_text = ''.join([x + y for (x, y) in zip(t2, t1)])\n",
    "        else:\n",
    "            test = ((len(encrypted_text) - 1) / 2)\n",
    "            t1 = encrypted_text[:int((len(encrypted_text) - 1) / 2)]\n",
    "            t2 = encrypted_text[int((len(encrypted_text) - 1) / 2):]\n",
    "            encrypted_text = ''.join([x + y for (x, y) in zip(t2, t1)]) + t2[-1]\n",
    "    return(encrypted_text)\n",
    "    \n",
    "\n",
    "\n",
    "def encrypt(text, n):\n",
    "    for i in range(n):\n",
    "        text = text[1::2] + text[::2]\n",
    "    return text\n",
    "\n",
    "print(decrypt(\"hskt svr neetn!Ti aai eyitrsig\", 2586))\n",
    "print(encrypt('This is a test!', 3))"
   ]
  },
  {
   "cell_type": "code",
   "execution_count": 92,
   "metadata": {
    "collapsed": false
   },
   "outputs": [
    {
     "name": "stdout",
     "output_type": "stream",
     "text": [
      "This kata is very interesting!\n",
      " Tah itse sits!\n"
     ]
    }
   ],
   "source": [
    "def decrypt(encrypted_text, n):\n",
    "    for i in range(n):\n",
    "        if len(encrypted_text) % 2 == 1:\n",
    "            last_c = encrypted_text[-1]\n",
    "            encrypted_text = encrypted_text[:(len(encrypted_text) - 1)]\n",
    "        else:\n",
    "            last_c = ''\n",
    "        t1 = encrypted_text[:(round(len(encrypted_text) / 2))]\n",
    "        t2 = encrypted_text[(round(len(encrypted_text) / 2)):]\n",
    "        encrypted_text = ''.join([x + y for (x, y) in zip(t2, t1)])\n",
    "        if last_c != '':\n",
    "            encrypted_text += last_c\n",
    "    return(encrypted_text)\n",
    "    \n",
    "\n",
    "\n",
    "def encrypt(text, n):\n",
    "    for i in range(n):\n",
    "        text = text[1::2] + text[::2]\n",
    "    return text\n",
    "\n",
    "print(decrypt(\"hskt svr neetn!Ti aai eyitrsig\", 2586))\n",
    "print(encrypt('This is a test!', 3))"
   ]
  },
  {
   "cell_type": "markdown",
   "metadata": {},
   "source": [
    "* text string is ```I)?rCu5&AP\"$9n0L7Wud<bh@\\`-%\\~```, n = `711`\n",
    "* output: ```-\\`@hb<duW7L0n9$\"PA&5uCr?)I~``` should equal ```<9C-WP)h05\\\\d$r\\`7AIbnu%u\"?@L&~```"
   ]
  },
  {
   "cell_type": "code",
   "execution_count": 90,
   "metadata": {
    "collapsed": false
   },
   "outputs": [
    {
     "name": "stdout",
     "output_type": "stream",
     "text": [
      "j\"[nD\n",
      "\"nj[D\n"
     ]
    }
   ],
   "source": [
    "print(decrypt('n[\"jD', 2))\n",
    "print(encrypt('n[\"jD', 711))"
   ]
  },
  {
   "cell_type": "code",
   "execution_count": 60,
   "metadata": {
    "collapsed": false
   },
   "outputs": [
    {
     "ename": "TypeError",
     "evalue": "'float' object cannot be interpreted as an integer",
     "output_type": "error",
     "traceback": [
      "\u001b[0;31m---------------------------------------------------------------------------\u001b[0m",
      "\u001b[0;31mTypeError\u001b[0m                                 Traceback (most recent call last)",
      "\u001b[0;32m<ipython-input-60-e9ff0de1c505>\u001b[0m in \u001b[0;36m<module>\u001b[0;34m()\u001b[0m\n\u001b[1;32m     11\u001b[0m     \u001b[1;32mreturn\u001b[0m \u001b[0mtext\u001b[0m\u001b[1;33m\u001b[0m\u001b[0m\n\u001b[1;32m     12\u001b[0m \u001b[1;33m\u001b[0m\u001b[0m\n\u001b[0;32m---> 13\u001b[0;31m \u001b[0mprint\u001b[0m\u001b[1;33m(\u001b[0m\u001b[0mdecrypt\u001b[0m\u001b[1;33m(\u001b[0m\u001b[1;34m'I)?rCu5&AP\"$9n0L7Wud<bh@\\`-%\\~'\u001b[0m\u001b[1;33m,\u001b[0m \u001b[1;36m711\u001b[0m\u001b[1;33m)\u001b[0m\u001b[1;33m)\u001b[0m\u001b[1;33m\u001b[0m\u001b[0m\n\u001b[0m\u001b[1;32m     14\u001b[0m \u001b[0mprint\u001b[0m\u001b[1;33m(\u001b[0m\u001b[0mencrypt\u001b[0m\u001b[1;33m(\u001b[0m\u001b[1;34m'This is a test!'\u001b[0m\u001b[1;33m,\u001b[0m \u001b[1;36m3\u001b[0m\u001b[1;33m)\u001b[0m\u001b[1;33m)\u001b[0m\u001b[1;33m\u001b[0m\u001b[0m\n",
      "\u001b[0;32m<ipython-input-60-e9ff0de1c505>\u001b[0m in \u001b[0;36mdecrypt\u001b[0;34m(encrypted_text, n)\u001b[0m\n\u001b[1;32m      2\u001b[0m     \u001b[1;32mfor\u001b[0m \u001b[0mi\u001b[0m \u001b[1;32min\u001b[0m \u001b[0mrange\u001b[0m\u001b[1;33m(\u001b[0m\u001b[0mn\u001b[0m\u001b[1;33m)\u001b[0m\u001b[1;33m:\u001b[0m\u001b[1;33m\u001b[0m\u001b[0m\n\u001b[1;32m      3\u001b[0m         \u001b[1;31m#if len(encrypted_text) % 2 == 0:\u001b[0m\u001b[1;33m\u001b[0m\u001b[1;33m\u001b[0m\u001b[0m\n\u001b[0;32m----> 4\u001b[0;31m         \u001b[0mencrypted_text\u001b[0m \u001b[1;33m=\u001b[0m \u001b[1;34m''\u001b[0m\u001b[1;33m.\u001b[0m\u001b[0mjoin\u001b[0m\u001b[1;33m(\u001b[0m\u001b[1;33m[\u001b[0m\u001b[0mencrypted_text\u001b[0m\u001b[1;33m[\u001b[0m\u001b[0mi\u001b[0m \u001b[1;33m+\u001b[0m \u001b[1;33m(\u001b[0m\u001b[0mlen\u001b[0m\u001b[1;33m(\u001b[0m\u001b[0mencrypted_text\u001b[0m\u001b[1;33m)\u001b[0m \u001b[1;33m/\u001b[0m \u001b[1;36m2\u001b[0m\u001b[1;33m)\u001b[0m\u001b[1;33m]\u001b[0m \u001b[1;33m+\u001b[0m \u001b[0mencrypted_text\u001b[0m\u001b[1;33m[\u001b[0m\u001b[0mi\u001b[0m\u001b[1;33m]\u001b[0m \u001b[1;32mfor\u001b[0m \u001b[0mi\u001b[0m \u001b[1;32min\u001b[0m \u001b[0mrange\u001b[0m\u001b[1;33m(\u001b[0m\u001b[0mlen\u001b[0m\u001b[1;33m(\u001b[0m\u001b[0mencrypted_text\u001b[0m\u001b[1;33m)\u001b[0m \u001b[1;33m/\u001b[0m \u001b[1;36m2\u001b[0m\u001b[1;33m)\u001b[0m\u001b[1;33m]\u001b[0m\u001b[1;33m)\u001b[0m\u001b[1;33m\u001b[0m\u001b[0m\n\u001b[0m\u001b[1;32m      5\u001b[0m     \u001b[1;32mreturn\u001b[0m\u001b[1;33m(\u001b[0m\u001b[0mencrypted_text\u001b[0m\u001b[1;33m)\u001b[0m\u001b[1;33m\u001b[0m\u001b[0m\n\u001b[1;32m      6\u001b[0m \u001b[1;33m\u001b[0m\u001b[0m\n",
      "\u001b[0;31mTypeError\u001b[0m: 'float' object cannot be interpreted as an integer"
     ]
    }
   ],
   "source": [
    "def decrypt(encrypted_text, n):\n",
    "    for i in range(n):\n",
    "        #if len(encrypted_text) % 2 == 0:\n",
    "        encrypted_text = ''.join([encrypted_text[i + (len(encrypted_text) / 2)] + encrypted_text[i] for i in range(len(encrypted_text) / 2)])\n",
    "    return(encrypted_text)\n",
    "    \n",
    "\n",
    "def encrypt(text, n):\n",
    "    for i in range(n):\n",
    "        text = text[1::2] + text[::2]\n",
    "    return text\n",
    "\n",
    "print(decrypt('I)?rCu5&AP\"$9n0L7Wud<bh@\\`-%\\~', 711))\n",
    "print(encrypt('This is a test!', 3))"
   ]
  }
 ],
 "metadata": {
  "kernelspec": {
   "display_name": "Python 3",
   "language": "python",
   "name": "python3"
  },
  "language_info": {
   "codemirror_mode": {
    "name": "ipython",
    "version": 3
   },
   "file_extension": ".py",
   "mimetype": "text/x-python",
   "name": "python",
   "nbconvert_exporter": "python",
   "pygments_lexer": "ipython3",
   "version": "3.6.0"
  }
 },
 "nbformat": 4,
 "nbformat_minor": 2
}
