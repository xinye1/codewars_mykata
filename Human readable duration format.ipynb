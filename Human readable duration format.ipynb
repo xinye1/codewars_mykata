{
 "cells": [
  {
   "cell_type": "markdown",
   "metadata": {},
   "source": [
    "### Instructions\n",
    "\n",
    "Your task in order to complete this Kata is to write a function which formats a duration, given as a number of seconds, in a human-friendly way.\n",
    "\n",
    "The function must accept a non-negative integer. If it is zero, it just returns \"now\". Otherwise, the duration is expressed as a combination of years, days, hours, minutes and seconds.\n",
    "\n",
    "It is much easier to understand with an example:\n",
    "```\n",
    "  format_duration(62)    # returns \"1 minute and 2 seconds\"\n",
    "  format_duration(3662)  # returns \"1 hour, 1 minute and 2 seconds\"\n",
    "  ```\n",
    "Note that spaces are important.\n",
    "\n",
    "Detailed rules\n",
    "\n",
    "* The resulting expression is made of components like `4 seconds`, `1 year`, etc. In general, a positive integer and one of the valid units of time, separated by a space. The unit of time is used in plural if the integer is greater than 1.\n",
    "\n",
    "* The components are separated by a comma and a space (`\", \"`). Except the last component, which is separated by `\" and \"`, just like it would be written in English.\n",
    "\n",
    "* A more significant units of time will occur before than a least significant one. Therefore, `1 second and 1 year` is not correct, but `1 year and 1 second` is.\n",
    "\n",
    "* Different components have different unit of times. So there is not repeated units like in `5 seconds and 1 second`.\n",
    "\n",
    "* A component will not appear at all if its value happens to be zero. Hence, `1 minute and 0 seconds` is not valid, but it should be just `1 minute`.\n",
    "\n",
    "* A unit of time must be used \"as much as possible\". It means that the function should not return `61 seconds`, but `1 minute and 1 second` instead. Formally, the duration specified by of a component must not be greater than any valid more significant unit of time.\n",
    "\n",
    "* For the purpose of this Kata, a year is 365 days and a day is 24 hours."
   ]
  },
  {
   "cell_type": "code",
   "execution_count": 47,
   "metadata": {
    "collapsed": false
   },
   "outputs": [
    {
     "data": {
      "text/plain": [
       "'1 year, 241 days, 1 hour, 6 minutes and 4 seconds'"
      ]
     },
     "execution_count": 47,
     "metadata": {},
     "output_type": "execute_result"
    }
   ],
   "source": [
    "def format_duration(seconds):\n",
    "    mins, secs = divmod(seconds, 60)\n",
    "    hrs, mins = divmod(mins, 60)\n",
    "    days, hrs = divmod(hrs, 24)\n",
    "    years, days = divmod(days, 365)\n",
    "    nums = [years, days, hrs, mins, secs]\n",
    "    unit_strs = ['year', 'day', 'hour', 'minute', 'second']\n",
    "    f_pl = lambda x, y: str(x) + ' ' + y + 's' if x > 1 else str(x) + ' ' + y\n",
    "    out_list = [f_pl(x, y) for (x, y) in zip(nums, unit_strs) if x > 0]    \n",
    "    if len(out_list) == 1:\n",
    "        return out_list[0]\n",
    "    else:\n",
    "        out = ', '.join(out_list[:(len(out_list) - 1)])\n",
    "        return out + ' and ' + out_list[-1]\n",
    "\n",
    "format_duration(52362364)"
   ]
  },
  {
   "cell_type": "markdown",
   "metadata": {},
   "source": [
    "However codewars website doesn't accept my answer :("
   ]
  }
 ],
 "metadata": {
  "kernelspec": {
   "display_name": "Python 3",
   "language": "python",
   "name": "python3"
  },
  "language_info": {
   "codemirror_mode": {
    "name": "ipython",
    "version": 3
   },
   "file_extension": ".py",
   "mimetype": "text/x-python",
   "name": "python",
   "nbconvert_exporter": "python",
   "pygments_lexer": "ipython3",
   "version": "3.6.0"
  }
 },
 "nbformat": 4,
 "nbformat_minor": 2
}
