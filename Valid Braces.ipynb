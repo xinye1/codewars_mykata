{
 "cells": [
  {
   "cell_type": "markdown",
   "metadata": {},
   "source": [
    "Experiments"
   ]
  },
  {
   "cell_type": "code",
   "execution_count": 118,
   "metadata": {
    "collapsed": false
   },
   "outputs": [
    {
     "name": "stdout",
     "output_type": "stream",
     "text": [
      "type1 = [(']', ']'), (')', ')')]\n",
      "type2 = [(']', ')'), (None, '(')]\n",
      "None\n",
      "type1 = [(']', '('), (None, ']')]\n",
      "type2 = [(']', ']'), (')', ')')]\n",
      "None\n",
      "type1 = [(']', '}'), ('}', ']')]\n",
      "type2 = [(']', ']'), (None, '{')]\n",
      "None\n"
     ]
    }
   ],
   "source": [
    "def validBraces(string):\n",
    "    braces = {'(': ')', '{': '}', '[': ']'}\n",
    "    type1 = [(braces.get(string[x]), string[x + 1]) for x in range(len(string)) if x % 2 == 0]\n",
    "    type2 = [(braces.get(string[x]), string[len(string) - x - 1]) for x in range(int(len(string) / 2))]\n",
    "    print('type1 = {}\\ntype2 = {}'.format(type1, type2))\n",
    "print(validBraces('[]()'))\n",
    "print(validBraces('[()]'))\n",
    "print(validBraces('[}{]'))\n"
   ]
  },
  {
   "cell_type": "code",
   "execution_count": 123,
   "metadata": {
    "collapsed": false
   },
   "outputs": [
    {
     "name": "stdout",
     "output_type": "stream",
     "text": [
      "True\n",
      "True\n",
      "False\n"
     ]
    }
   ],
   "source": [
    "def validBraces(string):\n",
    "    braces = {'(': ')', '{': '}', '[': ']'}\n",
    "    type1 = all([braces.get(string[x]) == string[x + 1] for x in range(len(string)) if x % 2 == 0])\n",
    "    type2 = all([braces.get(string[x]) == string[len(string) - x - 1] for x in range(int(len(string) / 2))])\n",
    "    return type1 or type2\n",
    "print(validBraces('[]()'))\n",
    "print(validBraces('[()]'))\n",
    "print(validBraces('[}{]'))\n"
   ]
  },
  {
   "cell_type": "markdown",
   "metadata": {},
   "source": [
    "This is the best solution for me"
   ]
  },
  {
   "cell_type": "code",
   "execution_count": 142,
   "metadata": {
    "collapsed": false
   },
   "outputs": [
    {
     "data": {
      "text/plain": [
       "False"
      ]
     },
     "execution_count": 142,
     "metadata": {},
     "output_type": "execute_result"
    }
   ],
   "source": [
    "import re\n",
    "def validBraces(string):\n",
    "    while re.findall(r'(\\(\\))|(\\[\\])|(\\{\\})', string) != []:\n",
    "        string = re.sub(r'(\\(\\))|(\\[\\])|(\\{\\})', '', string)\n",
    "    return string == ''\n",
    "\n",
    "validBraces('(}')"
   ]
  }
 ],
 "metadata": {
  "kernelspec": {
   "display_name": "Python 3",
   "language": "python",
   "name": "python3"
  },
  "language_info": {
   "codemirror_mode": {
    "name": "ipython",
    "version": 3
   },
   "file_extension": ".py",
   "mimetype": "text/x-python",
   "name": "python",
   "nbconvert_exporter": "python",
   "pygments_lexer": "ipython3",
   "version": "3.6.0"
  }
 },
 "nbformat": 4,
 "nbformat_minor": 2
}
