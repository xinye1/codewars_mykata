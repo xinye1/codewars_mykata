{
 "cells": [
  {
   "cell_type": "markdown",
   "metadata": {},
   "source": [
    "An integer partition of n is a weakly decreasing list of positive integers which sum to n.\n",
    "\n",
    "For example, there are 7 integer partitions of 5:\n",
    "\n",
    "`[5]`, `[4,1]`, `[3,2]`, `[3,1,1]`, `[2,2,1]`, `[2,1,1,1]`, `[1,1,1,1,1]`.\n",
    "\n",
    "Write a function named partitions which returns the number of integer partitions of n. The function should be able to find the number of integer partitions of n for n as least as large as 100."
   ]
  },
  {
   "cell_type": "code",
   "execution_count": null,
   "metadata": {
    "collapsed": true
   },
   "outputs": [],
   "source": [
    "def partitions(n):\n",
    "    pass\n",
    "\n",
    "\n",
    "print(partitions(1)) #== 1\n",
    "print(partitions(5)) #== 7\n",
    "print(partitions(10)) #== 42\n",
    "print(partitions(25)) #== 1958"
   ]
  }
 ],
 "metadata": {
  "kernelspec": {
   "display_name": "Python 3",
   "language": "python",
   "name": "python3"
  },
  "language_info": {
   "codemirror_mode": {
    "name": "ipython",
    "version": 3
   },
   "file_extension": ".py",
   "mimetype": "text/x-python",
   "name": "python",
   "nbconvert_exporter": "python",
   "pygments_lexer": "ipython3",
   "version": "3.6.0"
  }
 },
 "nbformat": 4,
 "nbformat_minor": 2
}
