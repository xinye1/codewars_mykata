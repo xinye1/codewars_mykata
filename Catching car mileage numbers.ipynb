{
 "cells": [
  {
   "cell_type": "markdown",
   "metadata": {},
   "source": [
    ">\"7777...8?!??!\", exclaimed Bob, \"I missed it again! Argh!\" Every time there's an interesting number coming up, he notices and then promptly forgets. Who doesn't like catching those one-off interesting mileage numbers?\n",
    "\n",
    "Let's make it so Bob never misses another interesting number. We've hacked into his car's computer, and we have a box hooked up that reads mileage numbers. We've got a box glued to his dash that lights up yellow or green depending on whether it receives a `1` or a `2` (respectively).\n",
    "\n",
    "It's up to you, intrepid warrior, to glue the parts together. Write the function that parses the mileage number input, and returns a `2` if the number is \"interesting\" (see below), a `1` if an interesting number occurs within the next two miles, or a `0` if the number is not interesting.\n",
    "\n",
    "Note: In Haskell, we use `No`, `Almost` and `Yes` instead of `0`, `1` and `2`.\n",
    "\n",
    "### \"Interesting\" Numbers\n",
    "\n",
    "Interesting numbers are 3-or-more digit numbers that meet one or more of the following criteria:\n",
    "\n",
    "* Any digit followed by all zeros: `100`, `90000`\n",
    "* Every digit is the same number: `1111`\n",
    "* The digits are sequential, incementing†: `1234`\n",
    "* The digits are sequential, decrementing‡: `4321`\n",
    "* The digits are a palindrome: `1221` or `73837`\n",
    "* The digits match one of the values in the `awesomePhrases` array\n",
    "\n",
    ">† For incrementing sequences, `0` should come after `9`, and not before `1`, as in `7890`.  \n",
    ">‡ For decrementing sequences, `0` should come after `1`, and not before `9`, as in `3210`.\n",
    "\n",
    "So, you should expect these inputs and outputs:\n",
    "```\n",
    "# \"boring\" numbers\n",
    "is_interesting(3, [1337, 256])    # 0\n",
    "is_interesting(3236, [1337, 256]) # 0\n",
    "\n",
    "# progress as we near an \"interesting\" number\n",
    "is_interesting(11207, []) # 0\n",
    "is_interesting(11208, []) # 0\n",
    "is_interesting(11209, []) # 1\n",
    "is_interesting(11210, []) # 1\n",
    "is_interesting(11211, []) # 2\n",
    "\n",
    "# nearing a provided \"awesome phrase\"\n",
    "is_interesting(1335, [1337, 256]) # 1\n",
    "is_interesting(1336, [1337, 256]) # 1\n",
    "is_interesting(1337, [1337, 256]) # 2\n",
    "```\n",
    "### Error Checking\n",
    "\n",
    "A number is only interesting if it is greater than `99`!\n",
    "Input will always be an integer greater than `0`, and less than `1,000,000,000`.\n",
    "The `awesomePhrases` array will always be provided, and will always be an array, but may be empty. (Not everyone thinks numbers spell funny words...)\n",
    "You should only ever output `0`, `1`, or `2`."
   ]
  },
  {
   "cell_type": "markdown",
   "metadata": {},
   "source": [
    "This is my initial solution, but needs optimising"
   ]
  },
  {
   "cell_type": "code",
   "execution_count": 178,
   "metadata": {
    "collapsed": false
   },
   "outputs": [
    {
     "name": "stdout",
     "output_type": "stream",
     "text": [
      "True\n"
     ]
    }
   ],
   "source": [
    "import re\n",
    "def nearing(num, target): # returns 0, 1 or 2 depending on how near\n",
    "    tmp = {0: 2, 1: 1, 2: 1}\n",
    "    if (target - num) in tmp.keys():\n",
    "        return(tmp[target - num])\n",
    "    else:\n",
    "        return 0\n",
    "    \n",
    "def interesting_num(num, phrases):\n",
    "    num_str = str(num)\n",
    "    if len(num_str) < 3: return False\n",
    "    num_ls = [int(num_str[x + 1]) - int(num_str[x]) for x in range(len(num_str) - 1)]\n",
    "    if re.compile(r'^\\d(0+)$').search(num_str) != None or \\\n",
    "        len(set(num_str)) == 1 or \\\n",
    "        set(num_ls) in [{-1}, {1}] or \\\n",
    "        all([set(num_ls[:len(num_ls)-1]) == {1}, num_str[-2:] == '90']) or \\\n",
    "        num_str == num_str[::-1] or \\\n",
    "        num in phrases: return True\n",
    "    return False\n",
    "\n",
    "def is_interesting(number, awesome_phrases):\n",
    "    if number <= 97: return 0\n",
    "    \n",
    "    diff = 0\n",
    "    while diff < 3:\n",
    "        if interesting_num(number + diff, awesome_phrases):\n",
    "            return nearing(number, number + diff)\n",
    "        diff += 1\n",
    "    return 0\n",
    "\n",
    "\n",
    "#print([nearing(x, 100) for x in range(97, 102)])\n",
    "#print(nearing(98, 100))\n",
    "print(interesting_num(7890, []))\n",
    "#print(is_interesting(120, []))"
   ]
  },
  {
   "cell_type": "markdown",
   "metadata": {},
   "source": [
    "Optimised a little"
   ]
  },
  {
   "cell_type": "code",
   "execution_count": 182,
   "metadata": {
    "collapsed": false
   },
   "outputs": [
    {
     "name": "stdout",
     "output_type": "stream",
     "text": [
      "True\n"
     ]
    }
   ],
   "source": [
    "import re\n",
    "def nearing(num, target): # returns 0, 1 or 2 depending on how near\n",
    "    tmp = {0: 2, 1: 1, 2: 1}\n",
    "    if (target - num) in tmp.keys():\n",
    "        return(tmp[target - num])\n",
    "    else:\n",
    "        return 0\n",
    "    \n",
    "def interesting_num(num, phrases):\n",
    "    num_str = str(num)\n",
    "    if len(num_str) < 3: return False\n",
    "    if set(num_str[1:]) == {'0'} or \\\n",
    "        num_str in '1234567890 9876543210' or \\\n",
    "        num_str == num_str[::-1] or \\\n",
    "        num in phrases: return True\n",
    "    return False\n",
    "\n",
    "def is_interesting(number, awesome_phrases):\n",
    "    if number <= 97: return 0\n",
    "    \n",
    "    diff = 0\n",
    "    while diff < 3:\n",
    "        if interesting_num(number + diff, awesome_phrases):\n",
    "            return nearing(number, number + diff)\n",
    "        diff += 1\n",
    "    return 0\n",
    "\n",
    "\n",
    "#print([nearing(x, 100) for x in range(97, 102)])\n",
    "#print(nearing(98, 100))\n",
    "print(interesting_num(7890, []))\n",
    "#print(is_interesting(120, []))"
   ]
  },
  {
   "cell_type": "code",
   "execution_count": 179,
   "metadata": {
    "collapsed": false
   },
   "outputs": [
    {
     "data": {
      "text/plain": [
       "{'0'}"
      ]
     },
     "execution_count": 179,
     "metadata": {},
     "output_type": "execute_result"
    }
   ],
   "source": [
    "# Regex checks\n",
    "s = 'abaaaa'\n",
    "pat1 = r'^(\\w+)\\1$'\n",
    "pat2 = r'^(.+)\\1$'\n",
    "pat3 = r'^\\d(0+)$'\n",
    "reg = re.compile(pat3)\n",
    "#out = reg.finditer(s)\n",
    "#print([x.group() for x in out])\n",
    "#set(s)\n",
    "#reg.search('90000000') != None\n",
    "\n",
    "\n",
    "# Sequential numbers check\n",
    "num_str = '67890'\n",
    "#set([int(num_str[x + 1]) - int(num_str[x]) for x in range(len(num_str) - 1)])# in {-1, 1}\n",
    "num_ls = [int(num_str[x + 1]) - int(num_str[x]) for x in range(len(num_str) - 1)]\n",
    "num_set = list(set(num_ls[:len(num_ls)-1]))\n",
    "#abs(num_set)\n",
    "#print('num_ls is {}'.format(num_ls))\n",
    "#print('num_set is {}'.format(num_set))\n",
    "#print('len(num_set) is {}'.format(len(num_set)))\n",
    "#print('out_list is {}'.format([len(num_set) == 1, abs(sum(num_ls)) == len(num_str) - 1]))\n",
    "#print('ends with {}'.format(num_str[-2:]))\n",
    "#print('Sequential? {}'.format(all([len(list(set(num_ls))) == 1, abs(sum(num_ls)) == len(num_str) - 1])))\n",
    "\n",
    "# Palindrome check\n",
    "#print('Palindrome? {}'.format(num_str == num_str[::-1]))\n",
    "\n",
    "# awesome phrases check\n",
    "#print('is {} in []? {}'.format('erodfsld', 'erodfsld' in []))\n",
    "#print([] in [1, 2])\n",
    "\n",
    "# sets\n",
    "set('0000')"
   ]
  },
  {
   "cell_type": "code",
   "execution_count": 146,
   "metadata": {
    "collapsed": false
   },
   "outputs": [
    {
     "name": "stdout",
     "output_type": "stream",
     "text": [
      "output is 0, expected 0\n",
      "output is 1, expected 1\n",
      "output is 2, expected 2\n",
      "output is 0, expected 0\n",
      "output is 1, expected 1\n",
      "output is 2, expected 2\n"
     ]
    }
   ],
   "source": [
    "tests = [\n",
    "\t{'n': 3, 'interesting': [1337, 256], 'expected': 0},\n",
    "\t{'n': 1336, 'interesting': [1337, 256], 'expected': 1},\n",
    "\t{'n': 1337, 'interesting': [1337, 256], 'expected': 2},\n",
    "\t{'n': 11208, 'interesting': [1337, 256], 'expected': 0},\n",
    "\t{'n': 11209, 'interesting': [1337, 256], 'expected': 1},\n",
    "\t{'n': 11211, 'interesting': [1337, 256], 'expected': 2},\n",
    "]\n",
    "for t in tests:\n",
    "\tprint('output is {}, expected {}'.format(is_interesting(t['n'], t['interesting']), t['expected']))"
   ]
  }
 ],
 "metadata": {
  "kernelspec": {
   "display_name": "Python 3",
   "language": "python",
   "name": "python3"
  },
  "language_info": {
   "codemirror_mode": {
    "name": "ipython",
    "version": 3
   },
   "file_extension": ".py",
   "mimetype": "text/x-python",
   "name": "python",
   "nbconvert_exporter": "python",
   "pygments_lexer": "ipython3",
   "version": "3.6.0"
  }
 },
 "nbformat": 4,
 "nbformat_minor": 2
}
