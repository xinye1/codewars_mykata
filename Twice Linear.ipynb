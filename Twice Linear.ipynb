{
 "cells": [
  {
   "cell_type": "code",
   "execution_count": null,
   "metadata": {
    "collapsed": true
   },
   "outputs": [],
   "source": [
    "# Consider a sequence u where u is defined as follows:\n",
    " \n",
    "# The number u(0) = 1 is the first one in u.\n",
    "# For each x in u, then y = 2 * x + 1 and z = 3 * x + 1 must be in u too.\n",
    "# There are no other numbers in u.\n",
    "# Ex: u = [1, 3, 4, 7, 9, 10, 13, 15, 19, 21, 22, 27, ...]\n",
    "# \n",
    "# 1 gives 3 and 4, then 3 gives 7 and 10, 4 gives 9 and 13, then 7 gives 15 and 22 and so on...\n",
    "# \n",
    "# Task:\n",
    "# \n",
    "# Given parameter n the function dbl_linear (or dblLinear...) returns the element u(n) of the ordered (with <) sequence u.\n",
    "# \n",
    "# Example:\n",
    "# \n",
    "# dbl_linear(10) should return 22"
   ]
  },
  {
   "cell_type": "code",
   "execution_count": null,
   "metadata": {
    "collapsed": true
   },
   "outputs": [],
   "source": [
    "def f1(x):\n",
    "    return(2 * x + 1)\n",
    "\n",
    "def f2(x):\n",
    "    return(3 * x + 1)\n",
    "\n",
    "def dbl_linear(n):\n",
    "    output = [1]\n",
    "    while i < n:\n",
    "        output.append(f1()).append(f2())\n",
    "        last_ele = max(output)\n",
    "    \n",
    "dbl_linear(10)"
   ]
  }
 ],
 "metadata": {
  "kernelspec": {
   "display_name": "Python 3",
   "language": "python",
   "name": "python3"
  },
  "language_info": {
   "codemirror_mode": {
    "name": "ipython",
    "version": 3
   },
   "file_extension": ".py",
   "mimetype": "text/x-python",
   "name": "python",
   "nbconvert_exporter": "python",
   "pygments_lexer": "ipython3",
   "version": "3.6.0"
  }
 },
 "nbformat": 4,
 "nbformat_minor": 2
}
