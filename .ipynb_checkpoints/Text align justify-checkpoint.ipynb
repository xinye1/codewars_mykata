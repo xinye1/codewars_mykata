{
 "cells": [
  {
   "cell_type": "markdown",
   "metadata": {},
   "source": [
    "Your task in this Kata is to emulate text justification in monospace font. You will be given a single-lined text and the expected justification width. The longest word will never be greater than this width.\n",
    "\n",
    "Here are the rules:\n",
    "\n",
    "* Use spaces to fill in the gaps between words.\n",
    "* Each line should contain as many words as possible.\n",
    "* Use '\\n' to separate lines.\n",
    "* Gap between words can't differ by more than one space.\n",
    "* Lines should end with a word not a space.\n",
    "* '\\n' is not included in the length of a line.\n",
    "* Large gaps go first, then smaller ones: 'Lorem---ipsum---dolor--sit--amet' (3, 3, 2, 2 spaces).\n",
    "* Last line should not be justified, use only one space between words.\n",
    "* Last line should not contain '\\n'\n",
    "* Strings with one word do not need gaps ('somelongword\\n').\n",
    "* Example with width=30:\n",
    "\n",
    "```\n",
    "Lorem  ipsum  dolor  sit amet,\n",
    "consectetur  adipiscing  elit.\n",
    "Vestibulum    sagittis   dolor\n",
    "mauris,  at  elementum  ligula\n",
    "tempor  eget.  In quis rhoncus\n",
    "nunc,  at  aliquet orci. Fusce\n",
    "at   dolor   sit   amet  felis\n",
    "suscipit   tristique.   Nam  a\n",
    "imperdiet   tellus.  Nulla  eu\n",
    "vestibulum    urna.    Vivamus\n",
    "tincidunt  suscipit  enim, nec\n",
    "ultrices   nisi  volutpat  ac.\n",
    "Maecenas   sit   amet  lacinia\n",
    "arcu,  non dictum justo. Donec\n",
    "sed  quam  vel  risus faucibus\n",
    "euismod.  Suspendisse  rhoncus\n",
    "rhoncus  felis  at  fermentum.\n",
    "Donec lorem magna, ultricies a\n",
    "nunc    sit    amet,   blandit\n",
    "fringilla  nunc. In vestibulum\n",
    "velit    ac    felis   rhoncus\n",
    "pellentesque. Mauris at tellus\n",
    "enim.  Aliquam eleifend tempus\n",
    "dapibus. Pellentesque commodo,\n",
    "nisi    sit   amet   hendrerit\n",
    "fringilla,   ante  odio  porta\n",
    "lacus,   ut   elementum  justo\n",
    "nulla et dolor.\n",
    "```\n",
    "\n",
    "Also you can always take a look at how justification works in your text editor or directly in HTML (css: text-align: justify).\n",
    "\n",
    "Have fun :)"
   ]
  },
  {
   "cell_type": "code",
   "execution_count": 32,
   "metadata": {
    "collapsed": false
   },
   "outputs": [
    {
     "name": "stdout",
     "output_type": "stream",
     "text": [
      "Lorem ipsum dolor sit amet, consectetur adipiscing elit. Vestibulum sagittis dolor mauris, at elementum ligula tempor eget. In quis rhoncus nunc, at aliquet orci. Fusce at dolor sit amet felis suscipit tristique. Nam a imperdiet tellus. Nulla eu vestibulum urna. Vivamus tincidunt suscipit enim, nec ultrices nisi volutpat ac. Maecenas sit amet lacinia arcu, non dictum justo. Donec sed quam vel risus faucibus euismod. Suspendisse rhoncus rhoncus felis at fermentum. Donec lorem magna, ultricies a nunc sit amet, blandit fringilla nunc. In vestibulum velit ac felis rhoncus pellentesque. Mauris at tellus enim. Aliquam eleifend tempus dapibus. Pellentesque commodo, nisi sit amet hendrerit fringilla, ante odio porta lacus, ut elementum justo nulla et dolor.\n"
     ]
    }
   ],
   "source": [
    "import re\n",
    "test_s = 'Lorem  ipsum  dolor  sit amet, consectetur  adipiscing  elit. Vestibulum    sagittis   dolor mauris,  at  elementum  ligula tempor  eget.  In quis rhoncus nunc,  at  aliquet orci. Fusce at   dolor   sit   amet  felis suscipit   tristique.   Nam  a imperdiet   tellus.  Nulla  eu vestibulum    urna.    Vivamus tincidunt  suscipit  enim, nec ultrices   nisi  volutpat  ac. Maecenas   sit   amet  lacinia arcu,  non dictum justo. Donec sed  quam  vel  risus faucibus euismod.  Suspendisse  rhoncus rhoncus  felis  at  fermentum. Donec lorem magna, ultricies a nunc    sit    amet,   blandit fringilla  nunc. In vestibulum velit    ac    felis   rhoncus pellentesque. Mauris at tellus enim.  Aliquam eleifend tempus dapibus. Pellentesque commodo, nisi    sit   amet   hendrerit fringilla,   ante  odio  porta lacus,   ut   elementum  justo nulla et dolor.'\n",
    "test_s1 = re.sub(r'\\s+', ' ', test_s)\n",
    "print(test_s1)"
   ]
  },
  {
   "cell_type": "code",
   "execution_count": 124,
   "metadata": {
    "collapsed": false
   },
   "outputs": [
    {
     "data": {
      "text/plain": [
       "'123  45\\n6'"
      ]
     },
     "execution_count": 124,
     "metadata": {},
     "output_type": "execute_result"
    }
   ],
   "source": [
    "import re\n",
    "def justify(text, width):\n",
    "    words = text.split(' ')\n",
    "    parag = ''\n",
    "    line = words.pop(0) + ' '\n",
    "    add_pers = []\n",
    "    leftovers = []\n",
    "    sps = []\n",
    "    while words != []:\n",
    "        if len(line) + len(words[0]) <= width:\n",
    "            line += words.pop(0) + ' '\n",
    "        else:\n",
    "            line = line[:len(line)-1]\n",
    "            num_sp = len(line.split(' ')) - 1\n",
    "            if num_sp >= 1:\n",
    "                add_per, leftover = divmod(width - len(line), num_sp)\n",
    "                sp = [' ' * (add_per + 2) for i in range(leftover)] + [' ' * (add_per + 1) for i in range(num_sp - leftover)] + ['']\n",
    "                line = ''.join([x + y for x, y in zip(line.split(' '), sp)])\n",
    "            line += '\\n'\n",
    "            parag += line\n",
    "            line = ''\n",
    "    parag += line\n",
    "    return re.sub('\\s$', '', parag)\n",
    "justify('123 45 6', 7) # --> '123 45\\n6'"
   ]
  },
  {
   "cell_type": "code",
   "execution_count": 119,
   "metadata": {
    "collapsed": false
   },
   "outputs": [
    {
     "name": "stdout",
     "output_type": "stream",
     "text": [
      "Lorem ipsum dolor sit amet,\n",
      "consectetur adipiscing elit.\n",
      "Vestibulum sagittis dolor\n",
      "mauris, at elementum ligula\n",
      "tempor eget. In quis rhoncus\n",
      "nunc, at aliquet orci. Fusce\n",
      "at dolor sit amet felis\n",
      "suscipit tristique. Nam a\n",
      "imperdiet tellus. Nulla eu\n",
      "vestibulum urna. Vivamus\n",
      "tincidunt suscipit enim, nec\n",
      "ultrices nisi volutpat ac.\n",
      "Maecenas sit amet lacinia\n",
      "arcu, non dictum justo. Donec\n",
      "sed quam vel risus faucibus\n",
      "euismod. Suspendisse rhoncus\n",
      "rhoncus felis at fermentum.\n",
      "Donec lorem magna, ultricies a\n",
      "nunc sit amet, blandit\n",
      "fringilla nunc. In vestibulum\n",
      "velit ac felis rhoncus\n",
      "pellentesque. Mauris at tellus\n",
      "enim. Aliquam eleifend tempus\n",
      "dapibus. Pellentesque commodo,\n",
      "nisi sit amet hendrerit\n",
      "fringilla, ante odio porta\n",
      "lacus, ut elementum justo\n",
      "Lorem  ipsum  dolor  sit amet,\n",
      "consectetur  adipiscing  elit.\n",
      "Vestibulum    sagittis   dolor\n",
      "mauris,  at  elementum  ligula\n",
      "tempor  eget.  In quis rhoncus\n",
      "nunc,  at  aliquet orci. Fusce\n",
      "at   dolor   sit   amet  felis\n",
      "suscipit   tristique.   Nam  a\n",
      "imperdiet   tellus.  Nulla  eu\n",
      "vestibulum    urna.    Vivamus\n",
      "tincidunt  suscipit  enim, nec\n",
      "ultrices   nisi  volutpat  ac.\n",
      "Maecenas   sit   amet  lacinia\n",
      "arcu,  non dictum justo. Donec\n",
      "sed  quam  vel  risus faucibus\n",
      "euismod.  Suspendisse  rhoncus\n",
      "rhoncus  felis  at  fermentum.\n",
      "Donec lorem magna, ultricies a\n",
      "nunc    sit    amet,   blandit\n",
      "fringilla  nunc. In vestibulum\n",
      "velit    ac    felis   rhoncus\n",
      "pellentesque. Mauris at tellus\n",
      "enim.  Aliquam eleifend tempus\n",
      "dapibus. Pellentesque commodo,\n",
      "nisi    sit   amet   hendrerit\n",
      "fringilla,   ante  odio  porta\n",
      "lacus,   ut   elementum  justo\n",
      "nulla et dolor. \n"
     ]
    }
   ],
   "source": [
    "s = test_s1\n",
    "s_ls = s.split(' ')\n",
    "#a = s.pop(2)\n",
    "#print(s)\n",
    "#print(a)\n",
    "print(justify(s, 30))"
   ]
  }
 ],
 "metadata": {
  "kernelspec": {
   "display_name": "Python 3",
   "language": "python",
   "name": "python3"
  },
  "language_info": {
   "codemirror_mode": {
    "name": "ipython",
    "version": 3
   },
   "file_extension": ".py",
   "mimetype": "text/x-python",
   "name": "python",
   "nbconvert_exporter": "python",
   "pygments_lexer": "ipython3",
   "version": "3.6.0"
  }
 },
 "nbformat": 4,
 "nbformat_minor": 2
}
