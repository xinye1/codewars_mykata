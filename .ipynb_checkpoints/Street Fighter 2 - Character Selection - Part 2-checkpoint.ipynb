{
 "cells": [
  {
   "cell_type": "markdown",
   "metadata": {},
   "source": [
    "This is the rightful continuation to this easier Kata [here](https://www.codewars.com/kata/5853213063adbd1b9b0000be) and some rules are the same with few substantial alterations.\n",
    "\n",
    "This time we have to deal with a situation like Super Street Fighter 2 Selection Screen:\n",
    "\n",
    "![img](https://images.duckduckgo.com/iu/?u=http%3A%2F%2Fwww.vizzed.com%2Fvizzedboard%2Fretro%2Fuser_screenshots%2Fsaves40%2F409292%2FGENESIS--Super%2520Street%2520Fighter%2520II%2520%2520The%2520New%2520Challengers_Jul2%252019_26_37.png&f=1)\n",
    "\n",
    "As you may see, we now have 16 characters on 3 rows. You might think: let's make an array of 3 arrays! But that's not enough.\n",
    "\n",
    "#### EMPTY SPACE\n",
    "\n",
    "The first character of the first row (Ryu) is not aligned with the first of the second row (Balrog) but with the second (Ken) and the same goes with the other side; therefore we need to introduce something new, like an offset: the Empty Space.\n",
    "\n",
    "The empty space, represented as empty string `\"\"`, will allow us to keep the grid aligned and rectangular, with spaces that won't be selectable. In this case we need 2 empty spaces (3 rows x 6 columns = 18 slots, 18 slots - 16 characters = 2 empty spaces). Like this:\n",
    "\n",
    "```\n",
    "|        | Ryu    | E.Honda  | Blanka  | Guile   |         |\n",
    "| Balrog | Ken    | Chun Li  | Zangief | Dhalsim | Sagat   |\n",
    "| Vega   | T.Hawk | Fei Long | Deejay  | Cammy   | M.Bison |\n",
    "```\n",
    "\n",
    "The moves of the selection cursor are the same as before: rotate horizontally but stop vertically. When you find empty spaces (1 or more) you need to skip them if you approach them horizontally and get to the next selectable slot with the next fighter on the left or right; and if you approach them vertically you need to just stop and stay where you are.\n",
    "\n",
    "Example: if you are on Ryu and move left, you must get to Guile; if you are on Balrog and move up, you must stay on Balrog.\n",
    "\n",
    "Notice: I might put empty spaces right in the middle and the rectangular grids can be any size, not only 3x6, deal with this too.\n",
    "\n",
    "#### WHAT'S NEW\n",
    "\n",
    "So, let's resume what are the new issues in this harder version of the Kata:\n",
    "\n",
    "* The initial position might be any non-empty slot in the grid (given as input).\n",
    "* The characters grid (also given as input) might have any rectangular layout, not only 3 rows.\n",
    "* The grid might contain empty spaces, both on the borders or right in the middle.\n",
    "\n",
    "#### INPUT\n",
    "\n",
    "* Fighters grid;\n",
    "* Initial position;\n",
    "* List of moves.\n",
    "* The third input parameter is still the list of moves (all valid ones: left, right, up or down).\n",
    "\n",
    "#### OUTPUT\n",
    "\n",
    "The output is the same as before: the list of characters that have been hovered by the selection cursor after each move, successful or not.\n",
    "\n",
    "Hopefully test cases will complete my explanation."
   ]
  },
  {
   "cell_type": "code",
   "execution_count": 37,
   "metadata": {
    "collapsed": false
   },
   "outputs": [],
   "source": [
    "# Solution\n",
    "def super_street_fighter_selection(fighters, position, moves):\n",
    "    move_dict = {'up': (-1, 0), 'down': (1, 0), 'left': (0, -1), 'right': (0, 1)}\n",
    "    x, y = position\n",
    "    selected_fighters = []\n",
    "    for m in moves:\n",
    "        if (x == 0 and m == 'up') or (x == (len(fighters) - 1) and m == 'down'):\n",
    "            x = x\n",
    "        else:\n",
    "            if (fighters[x + move_dict.get(m)[0]][y] == ''):\n",
    "                x = x\n",
    "            else:\n",
    "                x = x + move_dict.get(m)[0]\n",
    "        y = (y + move_dict.get(m)[1]) % len(fighters[0])\n",
    "        while fighters[x][y] == '':\n",
    "            y = (y + move_dict.get(m)[1]) % len(fighters[0])\n",
    "        print('Move {}, \\tselecting {}, \\thaving moved {}, \\tx, y = {}'.format(m, fighters[x][y % len(fighters[0])], move_dict.get(m), (x, y)))\n",
    "        selected_fighters.append(fighters[x][y])\n",
    "    return(selected_fighters)"
   ]
  },
  {
   "cell_type": "code",
   "execution_count": 38,
   "metadata": {
    "collapsed": false
   },
   "outputs": [
    {
     "name": "stdout",
     "output_type": "stream",
     "text": [
      "Move right, \tselecting Blanka, \thaving moved (0, 1), \tx, y = (0, 3)\n",
      "Move right, \tselecting Guile, \thaving moved (0, 1), \tx, y = (0, 4)\n",
      "Move right, \tselecting Ryu, \thaving moved (0, 1), \tx, y = (0, 1)\n",
      "Move right, \tselecting E.Honda, \thaving moved (0, 1), \tx, y = (0, 2)\n",
      "Move right, \tselecting Blanka, \thaving moved (0, 1), \tx, y = (0, 3)\n",
      "Move right, \tselecting Guile, \thaving moved (0, 1), \tx, y = (0, 4)\n",
      "Move right, \tselecting Ryu, \thaving moved (0, 1), \tx, y = (0, 1)\n",
      "Move right, \tselecting E.Honda, \thaving moved (0, 1), \tx, y = (0, 2)\n"
     ]
    },
    {
     "data": {
      "text/plain": [
       "True"
      ]
     },
     "execution_count": 38,
     "metadata": {},
     "output_type": "execute_result"
    }
   ],
   "source": [
    "fighters = [\n",
    "    [       \"\",    \"Ryu\",  \"E.Honda\",  \"Blanka\",   \"Guile\", \"\"       ],\n",
    "    [ \"Balrog\",    \"Ken\",  \"Chun Li\", \"Zangief\", \"Dhalsim\", \"Sagat\"  ],\n",
    "    [   \"Vega\", \"T.Hawk\", \"Fei Long\",  \"Deejay\",   \"Cammy\", \"M.Bison\"]\n",
    "]\n",
    "moves =  [\"right\"]*8\n",
    "position = (0,2)\n",
    "solution = ['Blanka', 'Guile', 'Ryu', 'E.Honda', 'Blanka', 'Guile', 'Ryu', 'E.Honda']\n",
    "super_street_fighter_selection(fighters, position, moves) == solution"
   ]
  },
  {
   "cell_type": "code",
   "execution_count": 33,
   "metadata": {
    "collapsed": false
   },
   "outputs": [
    {
     "name": "stdout",
     "output_type": "stream",
     "text": [
      "Move left, \tselecting E.Honda, \thaving moved (0, -1), \tx, y = (0, 2)\n",
      "Move left, \tselecting Ryu, \thaving moved (0, -1), \tx, y = (0, 1)\n",
      "Move down, \tselecting Ken, \thaving moved (1, 0), \tx, y = (1, 1)\n",
      "Move right, \tselecting Chun Li, \thaving moved (0, 1), \tx, y = (1, 2)\n",
      "Move right, \tselecting Balrog, \thaving moved (0, 1), \tx, y = (1, 4)\n",
      "Move right, \tselecting Ken, \thaving moved (0, 1), \tx, y = (1, 5)\n",
      "Move right, \tselecting Chun Li, \thaving moved (0, 1), \tx, y = (1, 6)\n",
      "Move down, \tselecting Fei Long, \thaving moved (1, 0), \tx, y = (2, 6)\n",
      "Move left, \tselecting Vega, \thaving moved (0, -1), \tx, y = (2, 4)\n",
      "Move left, \tselecting Balrog, \thaving moved (0, -1), \tx, y = (2, 3)\n",
      "Move left, \tselecting Fei Long, \thaving moved (0, -1), \tx, y = (2, 2)\n",
      "Move left, \tselecting Vega, \thaving moved (0, -1), \tx, y = (2, 0)\n",
      "Move down, \tselecting Blanka, \thaving moved (1, 0), \tx, y = (3, 0)\n",
      "Move right, \tselecting Guile, \thaving moved (0, 1), \tx, y = (3, 1)\n",
      "Move right, \tselecting Chun Li, \thaving moved (0, 1), \tx, y = (3, 3)\n",
      "Move down, \tselecting Sagat, \thaving moved (1, 0), \tx, y = (4, 3)\n",
      "Move right, \tselecting M.Bison, \thaving moved (0, 1), \tx, y = (4, 4)\n",
      "Move right, \tselecting Zangief, \thaving moved (0, 1), \tx, y = (4, 5)\n",
      "Move right, \tselecting Dhalsim, \thaving moved (0, 1), \tx, y = (4, 6)\n",
      "Move down, \tselecting Dhalsim, \thaving moved (1, 0), \tx, y = (4, 6)\n",
      "Move left, \tselecting Zangief, \thaving moved (0, -1), \tx, y = (4, 5)\n",
      "Move left, \tselecting M.Bison, \thaving moved (0, -1), \tx, y = (4, 4)\n",
      "Move left, \tselecting Sagat, \thaving moved (0, -1), \tx, y = (4, 3)\n",
      "Move down, \tselecting T.Hawk, \thaving moved (1, 0), \tx, y = (5, 3)\n",
      "Move left, \tselecting Cammy, \thaving moved (0, -1), \tx, y = (5, 1)\n",
      "Move left, \tselecting Deejay, \thaving moved (0, -1), \tx, y = (5, 0)\n",
      "Move left, \tselecting T.Hawk, \thaving moved (0, -1), \tx, y = (5, -1)\n"
     ]
    },
    {
     "data": {
      "text/plain": [
       "True"
      ]
     },
     "execution_count": 33,
     "metadata": {},
     "output_type": "execute_result"
    }
   ],
   "source": [
    "fighters4 = [\n",
    "    [        \"\",     \"Ryu\",  \"E.Honda\",  \"Cammy\" ],\n",
    "    [  \"Balrog\",     \"Ken\",  \"Chun Li\",       \"\" ],\n",
    "    [    \"Vega\",        \"\", \"Fei Long\", \"Balrog\",],\n",
    "    [  \"Blanka\",   \"Guile\",         \"\", \"Chun Li\"],\n",
    "    [ \"M.Bison\", \"Zangief\",  \"Dhalsim\", \"Sagat\"  ],\n",
    "    [  \"Deejay\",   \"Cammy\",         \"\", \"T.Hawk\" ]\n",
    "]\n",
    "\n",
    "moves =  [\"left\"]*2+[\"down\"]+[\"right\"]*4+[\"down\"]+[\"left\"]*4+[\"down\"]+[\"right\"]*2+[\"down\"]+[\"right\"]*3+[\"down\"]+[\"left\"]*3+[\"down\"]+[\"left\"]*3\n",
    "position = (0,3)\n",
    "super_street_fighter_selection(fighters4, position, moves) == ['E.Honda', 'Ryu', 'Ken', 'Chun Li', 'Balrog', 'Ken', 'Chun Li', 'Fei Long', 'Vega', 'Balrog', 'Fei Long', 'Vega', 'Blanka', 'Guile', 'Chun Li', 'Sagat', 'M.Bison', 'Zangief', 'Dhalsim', 'Dhalsim', 'Zangief', 'M.Bison', 'Sagat', 'T.Hawk', 'Cammy', 'Deejay', 'T.Hawk']"
   ]
  }
 ],
 "metadata": {
  "kernelspec": {
   "display_name": "Python 3",
   "language": "python",
   "name": "python3"
  },
  "language_info": {
   "codemirror_mode": {
    "name": "ipython",
    "version": 3
   },
   "file_extension": ".py",
   "mimetype": "text/x-python",
   "name": "python",
   "nbconvert_exporter": "python",
   "pygments_lexer": "ipython3",
   "version": "3.6.0"
  }
 },
 "nbformat": 4,
 "nbformat_minor": 2
}
