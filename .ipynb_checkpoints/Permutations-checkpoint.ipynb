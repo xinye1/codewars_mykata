{
 "cells": [
  {
   "cell_type": "markdown",
   "metadata": {},
   "source": [
    "In this kata you have to create all permutations of an input string and remove duplicates, if present. This means, you have to shuffle all letters from the input in all possible orders.\n",
    "\n",
    "Examples:\n",
    "```python\n",
    "permutations('a'); # ['a']\n",
    "permutations('ab'); # ['ab', 'ba']\n",
    "permutations('aabb'); # ['aabb', 'abab', 'abba', 'baab', 'baba', 'bbaa']\n",
    "```\n",
    "The order of the permutations doesn't matter."
   ]
  },
  {
   "cell_type": "code",
   "execution_count": 41,
   "metadata": {
    "collapsed": false
   },
   "outputs": [
    {
     "name": "stdout",
     "output_type": "stream",
     "text": [
      "abcd\n",
      "bcd\n",
      "cd\n"
     ]
    },
    {
     "data": {
      "text/plain": [
       "['abcd', 'bcda', 'bcdb', 'bcdb', 'cdbc', 'bcdc']"
      ]
     },
     "execution_count": 41,
     "metadata": {},
     "output_type": "execute_result"
    }
   ],
   "source": [
    "def permutations(string):\n",
    "    out = []\n",
    "    fix = ''\n",
    "    while len(string) > 1:\n",
    "        print(string)\n",
    "        out += [''.join([string[0], string[1:], fix]), ''.join([fix, string[1:], string[0]])]\n",
    "        string = string[1:]\n",
    "        fix += string[0]\n",
    "        \n",
    "    return(out)\n",
    "    \n",
    "permutations('abc')"
   ]
  },
  {
   "cell_type": "markdown",
   "metadata": {},
   "source": [
    "#### Core code below is taken from http://stackoverflow.com/a/104436"
   ]
  },
  {
   "cell_type": "code",
   "execution_count": 1,
   "metadata": {
    "collapsed": false
   },
   "outputs": [
    {
     "data": {
      "text/plain": [
       "['bca', 'bac', 'cab', 'cba', 'abc', 'acb']"
      ]
     },
     "execution_count": 1,
     "metadata": {},
     "output_type": "execute_result"
    }
   ],
   "source": [
    "\n",
    "def permutations(string):\n",
    "    if len(string) <=1:\n",
    "        return(string)\n",
    "    else:\n",
    "        out = []\n",
    "        for perm in permutations(string[1:]):\n",
    "            for i in range(len(string)):\n",
    "                # nb elements[0:1] works in both string and list contexts\n",
    "                out.append(perm[:i] + string[0:1] + perm[i:])\n",
    "    return list(set(out))\n",
    "\n",
    "permutations('abc')"
   ]
  }
 ],
 "metadata": {
  "kernelspec": {
   "display_name": "Python 3",
   "language": "python",
   "name": "python3"
  },
  "language_info": {
   "codemirror_mode": {
    "name": "ipython",
    "version": 3
   },
   "file_extension": ".py",
   "mimetype": "text/x-python",
   "name": "python",
   "nbconvert_exporter": "python",
   "pygments_lexer": "ipython3",
   "version": "3.6.0"
  }
 },
 "nbformat": 4,
 "nbformat_minor": 2
}
