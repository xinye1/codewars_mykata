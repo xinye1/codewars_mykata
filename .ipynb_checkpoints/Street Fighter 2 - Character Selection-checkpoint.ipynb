{
 "cells": [
  {
   "cell_type": "markdown",
   "metadata": {},
   "source": [
    "#### Short Intro\n",
    "\n",
    "Some of you might remember spending afternoons playing Street Fighter 2 in some Arcade back in the 90s or emulating it nowadays with the numerous emulators for retro consoles.\n",
    "\n",
    "Can you solve this kata? Suuure-You-Can!\n",
    "\n",
    "_UPDATE: a new kata's harder version is available [here](https://www.codewars.com/kata/street-fighter-2-character-selection-part-2/train/python)._\n",
    "\n",
    "#### The Kata\n",
    "\n",
    "You'll have to simulate the video game's character selection screen behaviour, more specifically the selection grid. Such screen looks like this:\n",
    "\n",
    "![img](https://images.duckduckgo.com/iu/?u=http%3A%2F%2Fwww.fightersgeneration.com%2Fnp5%2Fgm%2Fsf2ce-s2.jpg&f=1)\n",
    "\n",
    "Selection Grid Layout in text:\n",
    "```\n",
    "| Ryu  | E.Honda | Blanka  | Guile   | Balrog | Vega    |\n",
    "| Ken  | Chun Li | Zangief | Dhalsim | Sagat  | M.Bison |\n",
    "```\n",
    "\n",
    "#### Input\n",
    "\n",
    "* the list of game characters in a 2x6 grid;\n",
    "* the initial position of the selection cursor (top-left is `(0,0)`);\n",
    "* a list of moves of the selection cursor (which are `up`, `down`, `left`, `right`);\n",
    "\n",
    "#### Output\n",
    "\n",
    "the list of characters who have been hovered by the selection cursor after all the moves (ordered and with repetition, all the ones after a move, wether successful or not, see tests);\n",
    "\n",
    "#### Rules\n",
    "\n",
    "Selection cursor is circular horizontally but not vertically!\n",
    "\n",
    "As you might remember from the game, the selection cursor rotates horizontally but not vertically; that means that if I'm in the leftmost and I try to go left again I'll get to the rightmost (examples: from Ryu to Vega, from Ken to M.Bison) and vice versa from rightmost to leftmost.\n",
    "\n",
    "Instead, if I try to go further up from the upmost or further down from the downmost, I'll just stay where I am located (examples: you can't go lower than lowest row: Ken, Chun Li, Zangief, Dhalsim, Sagat and M.Bison in the above image; you can't go upper than highest row: Ryu, E.Honda, Blanka, Guile, Balrog and Vega in the above image).\n",
    "\n",
    "#### Test\n",
    "\n",
    "For this easy version the fighters grid layout and the initial position will always be the same in all tests, only the list of moves change.\n",
    "\n",
    "Notice : changing some of the input data might not help you.\n",
    "\n",
    "#### Examples\n",
    "\n",
    "1.\n",
    "```python\n",
    "fighters = [\n",
    "    [\"Ryu\", \"E.Honda\", \"Blanka\", \"Guile\", \"Balrog\", \"Vega\"],\n",
    "    [\"Ken\", \"Chun Li\", \"Zangief\", \"Dhalsim\", \"Sagat\", \"M.Bison\"]\n",
    "]\n",
    "initial_position = (0,0)\n",
    "moves = ['up', 'left', 'right', 'left', 'left']\n",
    "```\n",
    "\n",
    "then I should get:\n",
    "\n",
    "```python\n",
    "['Ryu', 'Vega', 'Ryu', 'Vega', 'Balrog']\n",
    "```\n",
    "\n",
    "as the characters I've been hovering with the selection cursor during my moves. Notice: Ryu is the first just because it \"fails\" the first `up` See test cases for more examples.\n",
    "\n",
    "2.\n",
    "```python\n",
    "fighters = [\n",
    "    [\"Ryu\", \"E.Honda\", \"Blanka\", \"Guile\", \"Balrog\", \"Vega\"],\n",
    "    [\"Ken\", \"Chun Li\", \"Zangief\", \"Dhalsim\", \"Sagat\", \"M.Bison\"]\n",
    "]\n",
    "initial_position = (0,0)\n",
    "moves = ['right', 'down', 'left', 'left', 'left', 'left', 'right']\n",
    "```\n",
    "\n",
    "Result:\n",
    "```python\n",
    "['E.Honda', 'Chun Li', 'Ken', 'M.Bison', 'Sagat', 'Dhalsim', 'Sagat']\n",
    "```\n",
    "\n",
    "#### OFF-TOPIC\n",
    "\n",
    "Some music to get in the mood for this kata :\n",
    "\n",
    "[Street Fighter 2 - selection theme](https://www.youtube.com/watch?v=GR3d9FMBkC8)"
   ]
  },
  {
   "cell_type": "code",
   "execution_count": 29,
   "metadata": {
    "collapsed": true
   },
   "outputs": [],
   "source": [
    "def street_fighter_selection(fighters, initial_position, moves):\n",
    "    move_dict = {'up': (-1, 0), 'down': (1, 0), 'left': (0, -1), 'right': (0, 1)}\n",
    "    x, y = initial_position\n",
    "    selected_fighters = []\n",
    "    for m in moves:\n",
    "        y += move_dict.get(m)[1]\n",
    "        if (x == 0 and m == 'up') or (x == 1 and m == 'down'):\n",
    "            x = x\n",
    "        else:\n",
    "            x += move_dict.get(m)[0]\n",
    "        selected_fighters.append(fighters[x][y % 6])\n",
    "    return(selected_fighters)"
   ]
  },
  {
   "cell_type": "code",
   "execution_count": 30,
   "metadata": {
    "collapsed": false
   },
   "outputs": [
    {
     "data": {
      "text/plain": [
       "['E.Honda',\n",
       " 'Chun Li',\n",
       " 'Ken',\n",
       " 'M.Bison',\n",
       " 'Sagat',\n",
       " 'Dhalsim',\n",
       " 'Sagat',\n",
       " 'Sagat',\n",
       " 'Sagat']"
      ]
     },
     "execution_count": 30,
     "metadata": {},
     "output_type": "execute_result"
    }
   ],
   "source": [
    "fighters = [\n",
    "    [\"Ryu\", \"E.Honda\", \"Blanka\", \"Guile\", \"Balrog\", \"Vega\"],\n",
    "    [\"Ken\", \"Chun Li\", \"Zangief\", \"Dhalsim\", \"Sagat\", \"M.Bison\"]\n",
    "]\n",
    "initial_position = (0,0)\n",
    "moves = ['right', 'down', 'left', 'left', 'left', 'left', 'right', 'down', 'down']\n",
    "street_fighter_selection(fighters, initial_position, moves)"
   ]
  }
 ],
 "metadata": {
  "kernelspec": {
   "display_name": "Python 3",
   "language": "python",
   "name": "python3"
  },
  "language_info": {
   "codemirror_mode": {
    "name": "ipython",
    "version": 3
   },
   "file_extension": ".py",
   "mimetype": "text/x-python",
   "name": "python",
   "nbconvert_exporter": "python",
   "pygments_lexer": "ipython3",
   "version": "3.6.0"
  }
 },
 "nbformat": 4,
 "nbformat_minor": 2
}
