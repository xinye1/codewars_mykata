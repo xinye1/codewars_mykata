{
 "cells": [
  {
   "cell_type": "markdown",
   "metadata": {},
   "source": [
    "Write a class called User that is used to calculate the amount that a user will progress through a ranking system similar to the one Codewars uses.\n",
    "\n",
    "#### Business Rules:\n",
    "\n",
    "* A user starts at rank -8 and can progress all the way to 8.\n",
    "* There is no 0 (zero) rank. The next rank after -1 is 1.\n",
    "* Users will complete activities. These activities also have ranks.\n",
    "* Each time the user completes a ranked activity the users rank progress is updated based off of the activity's rank\n",
    "* The progress earned from the completed activity is relative to what the user's current rank is compared to the rank of the activity\n",
    "* A user's rank progress starts off at zero, each time the progress reaches 100 the user's rank is upgraded to the next level\n",
    "* Any remaining progress earned while in the previous rank will be applied towards the next rank's progress (we don't throw any progress away). The exception is if there is no other rank left to progress towards (Once you reach rank 8 there is no more progression).\n",
    "* A user cannot progress beyond rank 8.\n",
    "* The only acceptable range of rank values is -8,-7,-6,-5,-4,-3,-2,-1,1,2,3,4,5,6,7,8. Any other value should raise an error.\n",
    "\n",
    "#### The progress is scored like so:\n",
    "\n",
    "* Completing an activity that is ranked the same as that of the user's will be worth 3 points\n",
    "* Completing an activity that is ranked one ranking lower than the user's will be worth 1 point\n",
    "* Any activities completed that are ranking 2 levels or more lower than the user's ranking will be ignored\n",
    "* Completing an activity ranked higher than the current user's rank will accelerate the rank progression. The greater the difference between rankings the more the progression will be increased. The formula is `10 * d * d` where `d` equals the difference in ranking between the activity and the user.\n",
    "\n",
    "#### Logic Examples:\n",
    "\n",
    "* If a user ranked -8 completes an activity ranked -7 they will receive 10 progress\n",
    "* If a user ranked -8 completes an activity ranked -6 they will receive 40 progress\n",
    "* If a user ranked -8 completes an activity ranked -5 they will receive 90 progress\n",
    "* If a user ranked -8 completes an activity ranked -4 they will receive 160 progress, resulting in the user being upgraded to rank -7 and having earned 60 progress towards their next rank\n",
    "* If a user ranked -1 completes an activity ranked 1 they will receive 10 progress (remember, zero rank is ignored)\n",
    "\n",
    "#### Code Usage Examples:\n",
    "\n",
    "```python\n",
    "user = User()\n",
    "user.rank # => -8\n",
    "user.progress # => 0\n",
    "user.inc\\_progress(-7)\n",
    "user.progress # => 10\n",
    "user.inc\\_progress(-5) # will add 90 progress\n",
    "user.progress # => 0 # progress is now zero\n",
    "user.rank # => -7 # rank was upgraded to -7\n",
    "```\n",
    "\n",
    "_**Note**: Codewars no longer uses this algorithm for its own ranking system. It uses a pure Math based solution that gives consistent results no matter what order a set of ranked activities are completed at._"
   ]
  },
  {
   "cell_type": "code",
   "execution_count": 1,
   "metadata": {
    "collapsed": true
   },
   "outputs": [],
   "source": [
    "# TODO: create the User class\n",
    "# it must support rank, progress, and the inc_progress(rank) method"
   ]
  }
 ],
 "metadata": {
  "kernelspec": {
   "display_name": "Python 3",
   "language": "python",
   "name": "python3"
  },
  "language_info": {
   "codemirror_mode": {
    "name": "ipython",
    "version": 3
   },
   "file_extension": ".py",
   "mimetype": "text/x-python",
   "name": "python",
   "nbconvert_exporter": "python",
   "pygments_lexer": "ipython3",
   "version": "3.6.0"
  }
 },
 "nbformat": 4,
 "nbformat_minor": 2
}
