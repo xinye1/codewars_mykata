{
 "cells": [
  {
   "cell_type": "markdown",
   "metadata": {},
   "source": [
    "## Task:\n",
    "\n",
    "Write a function get_honor which accepts a username from someone at Codewars and returns an integer containing the user's honor. If input is invalid, raise an error.\n",
    "\n",
    "If you want/don't want your username to be in the tests, ask me in the discourse area. There can't be too many though because the server may time out.\n",
    "\n",
    "## Example¹:\n",
    "```python\n",
    ">>> get_honor('dpleshkov')\n",
    "4418\n",
    ">>> get_honor('jhoffner')\n",
    "21949\n",
    "```\n",
    "¹ Honor may or may not be current to the user\n",
    "\n",
    "## Libraries/Recommendations:\n",
    "\n",
    "Python:\n",
    "\n",
    "* `urllib.request.urlopen`: Opens up a webpage.\n",
    "* `re`: The RegEx library for Python.\n",
    "* `bs4`([BeautifulSoup](https://www.crummy.com/software/BeautifulSoup/bs4/doc)): A tool for scraping HTML and XML.\n",
    "\n",
    "## Notes:\n",
    "\n",
    "While this kata is in beta, please vote on it and give your rank assessment.\n",
    "Feel free to voice your comments and concerns in the discourse area.\n",
    "There is no example tests. Sorry, the honor may vary from time to time. I apologize for the inconvenience."
   ]
  },
  {
   "cell_type": "code",
   "execution_count": null,
   "metadata": {
    "collapsed": true
   },
   "outputs": [],
   "source": [
    "# Solution 1: doesn't passs secret tests\n",
    "from urllib.request import urlopen\n",
    "import re\n",
    "import bs4\n",
    "def get_honor(username):\n",
    "    base_url = 'https://www.codewars.com/users/'\n",
    "    page = urlopen(base_url + username)\n",
    "    soup = bs4.BeautifulSoup(page, 'html.parser')\n",
    "    found = re.findall(r'kyuHonor:(\\d{1,3}(,\\d{3})*)Leaderboard', soup.get_text())\n",
    "    return(int(found[0][0].replace(',', '')))"
   ]
  },
  {
   "cell_type": "code",
   "execution_count": 96,
   "metadata": {
    "collapsed": false
   },
   "outputs": [
    {
     "name": "stdout",
     "output_type": "stream",
     "text": [
      "470\n",
      "9884\n"
     ]
    }
   ],
   "source": [
    "# Solution 2: works here but no on website\n",
    "from urllib.request import urlopen\n",
    "import re\n",
    "import bs4\n",
    "def get_honor(username):\n",
    "    base_url = 'https://www.codewars.com/users/'\n",
    "    page = urlopen(base_url + username)\n",
    "    soup = bs4.BeautifulSoup(page, 'html.parser')\n",
    "    honor_tag = soup.findAll('b', string = 'Honor:')\n",
    "    tag = [each.parent.get_text() for each in honor_tag][0]\n",
    "    honor = re.compile(r'(\\d{1,3}(,\\d{3})*)').findall(tag)[0][0]\n",
    "    return(int(honor.replace(',', '')))\n",
    "print(get_honor('xinye'))\n",
    "print(get_honor('dinglemouse'))"
   ]
  }
 ],
 "metadata": {
  "kernelspec": {
   "display_name": "Python 3",
   "language": "python",
   "name": "python3"
  },
  "language_info": {
   "codemirror_mode": {
    "name": "ipython",
    "version": 3
   },
   "file_extension": ".py",
   "mimetype": "text/x-python",
   "name": "python",
   "nbconvert_exporter": "python",
   "pygments_lexer": "ipython3",
   "version": "3.6.0"
  }
 },
 "nbformat": 4,
 "nbformat_minor": 2
}
