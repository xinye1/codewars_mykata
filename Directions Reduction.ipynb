{
 "cells": [
  {
   "cell_type": "markdown",
   "metadata": {},
   "source": [
    "### Once upon a time, on a way through the old wild west,…\n",
    "\n",
    "… a man was given directions to go from one point to another. The directions were \"NORTH\", \"SOUTH\", \"WEST\", \"EAST\". Clearly \"NORTH\" and \"SOUTH\" are opposite, \"WEST\" and \"EAST\" too. Going to one direction and coming back the opposite direction is a needless effort. Since this is the wild west, with dreadfull weather and not much water, it's important to save yourself some energy, otherwise you might die of thirst!\n",
    "\n",
    "### How I crossed the desert the smart way.\n",
    "\n",
    "The directions given to the man are, for example, the following:\n",
    "\n",
    "```\n",
    "[\"NORTH\", \"SOUTH\", \"SOUTH\", \"EAST\", \"WEST\", \"NORTH\", \"WEST\"].\n",
    "```\n",
    "\n",
    "or\n",
    "\n",
    "```\n",
    "{ \"NORTH\", \"SOUTH\", \"SOUTH\", \"EAST\", \"WEST\", \"NORTH\", \"WEST\" };\n",
    "```\n",
    "or (haskell)\n",
    "\n",
    "```\n",
    "[North, South, South, East, West, North, West]\n",
    "```\n",
    "\n",
    "You can immediatly see that going \"NORTH\" and then \"SOUTH\" is not reasonable, better stay to the same place! So the task is to give to the man a simplified version of the plan. A better plan in this case is simply:\n",
    "\n",
    "```\n",
    "[\"WEST\"]\n",
    "```\n",
    "\n",
    "or\n",
    "\n",
    "```\n",
    "{ \"WEST\" }\n",
    "```\n",
    "\n",
    "or (haskell)\n",
    "\n",
    "```\n",
    "[West]\n",
    "```\n",
    "\n",
    "or (rust)\n",
    "\n",
    "```\n",
    "[WEST];\n",
    "```\n",
    "\n",
    "Other examples:\n",
    "\n",
    "In `[\"NORTH\", \"SOUTH\", \"EAST\", \"WEST\"]`, the direction `\"NORTH\" + \"SOUTH\"` is going north and coming back right away. What a waste of time! Better to do nothing.\n",
    "\n",
    "The path becomes `[\"EAST\", \"WEST\"]`, now `\"EAST\"` and `\"WEST\"` annihilate each other, therefore, the final result is `[]` (nil in Clojure).\n",
    "\n",
    "In `[\"NORTH\", \"EAST\", \"WEST\", \"SOUTH\", \"WEST\", \"WEST\"]`, `\"NORTH\"` and `\"SOUTH\"` are not directly opposite but they become directly opposite after the reduction of `\"EAST\"` and `\"WEST\"` so the whole path is reducible to `[\"WEST\", \"WEST\"]`.\n",
    "\n",
    "### Task\n",
    "\n",
    "Write a function dirReduc which will take an array of strings and returns an array of strings with the needless directions removed (W<->E or S<->N side by side).\n",
    "\n",
    "The Haskell version takes a list of directions with data Direction = North | East | West | South. The Clojure version returns nil when the path is reduced to nothing. The Rust version takes a slice of enum Direction {NORTH, SOUTH, EAST, WEST}.\n",
    "\n",
    "### Examples\n",
    "\n",
    "```python\n",
    "dirReduc([\"NORTH\", \"SOUTH\", \"SOUTH\", \"EAST\", \"WEST\", \"NORTH\", \"WEST\"]) # => [\"WEST\"]\n",
    "dirReduc([\"NORTH\", \"SOUTH\", \"SOUTH\", \"EAST\", \"WEST\", \"NORTH\"]) # => []\n",
    "```\n",
    "\n",
    "See more examples in \"Example Tests\"\n",
    "\n",
    "### Note\n",
    "\n",
    "All paths can't be made simpler. The path [\"NORTH\", \"WEST\", \"SOUTH\", \"EAST\"] is not reducible. \"NORTH\" and \"WEST\", \"WEST\" and \"SOUTH\", \"SOUTH\" and \"EAST\" are not directly opposite of each other and can't become such. Hence the result path is itself : [\"NORTH\", \"WEST\", \"SOUTH\", \"EAST\"]."
   ]
  },
  {
   "cell_type": "code",
   "execution_count": 9,
   "metadata": {
    "collapsed": false
   },
   "outputs": [
    {
     "name": "stdout",
     "output_type": "stream",
     "text": [
      "['WEST']\n",
      "['NORTH', 'WEST', 'SOUTH', 'EAST']\n"
     ]
    }
   ],
   "source": [
    "def dirReduc(arr):\n",
    "    dir_x = ['EAST', 'WEST']\n",
    "    dir_y = ['NORTH', 'SOUTH']\n",
    "    i = 0\n",
    "    while i < len(arr) - 1:\n",
    "        dir_pair = sorted([arr[i], arr[i + 1]])\n",
    "        if dir_pair in [dir_x, dir_y]:\n",
    "            arr.pop(i)\n",
    "            arr.pop(i)\n",
    "            i = 0\n",
    "        else:\n",
    "            i += 1\n",
    "    return arr\n",
    "\n",
    "a = [\"NORTH\", \"SOUTH\", \"SOUTH\", \"EAST\", \"WEST\", \"NORTH\", \"WEST\"]\n",
    "print(dirReduc(a)) # => ['WEST']\n",
    "u=[\"NORTH\", \"WEST\", \"SOUTH\", \"EAST\"]\n",
    "print(dirReduc(u)) # => [\"NORTH\", \"WEST\", \"SOUTH\", \"EAST\"]"
   ]
  }
 ],
 "metadata": {
  "kernelspec": {
   "display_name": "Python 3",
   "language": "python",
   "name": "python3"
  },
  "language_info": {
   "codemirror_mode": {
    "name": "ipython",
    "version": 3
   },
   "file_extension": ".py",
   "mimetype": "text/x-python",
   "name": "python",
   "nbconvert_exporter": "python",
   "pygments_lexer": "ipython3",
   "version": "3.6.0"
  }
 },
 "nbformat": 4,
 "nbformat_minor": 2
}
