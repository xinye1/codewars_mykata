{
 "cells": [
  {
   "cell_type": "code",
   "execution_count": 5,
   "metadata": {
    "collapsed": false
   },
   "outputs": [
    {
     "data": {
      "text/plain": [
       "['carer', 'racer']"
      ]
     },
     "execution_count": 5,
     "metadata": {},
     "output_type": "execute_result"
    }
   ],
   "source": [
    "from collections import Counter\n",
    "def anagrams(word, words):\n",
    "    out = []\n",
    "    for w in words:\n",
    "        ct_target = Counter(word)\n",
    "        ct_w = Counter(w)\n",
    "        if all(ct_w.get(x) == ct_target.get(x) for x in ct_target) and \\\n",
    "            all(ct_w.get(x) == ct_target.get(x) for x in ct_w):\n",
    "            out.append(w)\n",
    "    return(out)\n",
    "    \n",
    "anagrams('racer', ['crazer', 'carer', 'racar', 'caers', 'racer'])    \n",
    "#anagrams('racer', ['crazer', 'carer', 'racar', 'caers', 'racer']) = ['carer', 'racer']"
   ]
  }
 ],
 "metadata": {
  "kernelspec": {
   "display_name": "Python 3",
   "language": "python",
   "name": "python3"
  },
  "language_info": {
   "codemirror_mode": {
    "name": "ipython",
    "version": 3
   },
   "file_extension": ".py",
   "mimetype": "text/x-python",
   "name": "python",
   "nbconvert_exporter": "python",
   "pygments_lexer": "ipython3",
   "version": "3.6.0"
  }
 },
 "nbformat": 4,
 "nbformat_minor": 2
}
