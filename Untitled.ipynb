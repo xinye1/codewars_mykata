{
 "cells": [
  {
   "cell_type": "markdown",
   "metadata": {},
   "source": [
    "In this kata, you will create an object that returns the positions and the values of the \"peaks\" (or local maxima) of a numeric array.\n",
    "\n",
    "For example, the array `arr = [ 0 , 1 , 2 , 5 , 1 , 0 ]` has a peak in position 3 with a value of 5 (`arr[3] = 5`)\n",
    "\n",
    "The output will be returned as an object with two properties: pos and peaks. Both of these properties should be arrays. If there is no peak in the given array, then the output should be `{pos: [], peaks: []}`.\n",
    "\n",
    "Example: `pickPeaks([3,2,3,6,4,1,2,3,2,1,2,3])` returns `{pos:[3,7],peaks:[6,3]}`\n",
    "\n",
    "All input arrays will be valid numeric arrays (although it could still be empty), so you won't need to validate the input.\n",
    "\n",
    "The first and last elements of the array will not be considered as peaks (in the context of a mathematical function, we don't know what is after and before and therefore, we don't know if it is a peak or not).\n",
    "\n",
    "Also, beware of plateaus !!! `[1,2,2,2,1]` has a peak while `[1, 2, 2, 2, 3]` does not. In case of a plateau-peak, please only return the position and value of the beginning of the plateau. For example: `pickPeaks([1,2,2,2,1])` returns `{pos:[1],peaks:[2]}`\n",
    "\n",
    "have fun!"
   ]
  },
  {
   "cell_type": "code",
   "execution_count": 55,
   "metadata": {
    "collapsed": false
   },
   "outputs": [
    {
     "data": {
      "text/plain": [
       "{'peaks': [6, 3], 'pos': [3, 7]}"
      ]
     },
     "execution_count": 55,
     "metadata": {},
     "output_type": "execute_result"
    }
   ],
   "source": [
    "def pick_peaks(arr):\n",
    "    first_incr = next(i for i in range(len(a)) if a[i + 1] > a[i])\n",
    "    loc_max = arr[first_incr]\n",
    "    last_increasing = False\n",
    "    diff = [0]\n",
    "    pos = []\n",
    "    peaks = []\n",
    "    for i, x in enumerate(arr[first_incr+1:]):\n",
    "        if x > loc_max: # inceasing\n",
    "            loc_max = arr[first_incr+i]\n",
    "            last_increasing = True\n",
    "        elif x < loc_max: # decreasing\n",
    "            if last_increasing == True: # found a peak\n",
    "                pos.append(first_incr+i-1)\n",
    "                peaks.append(arr[first_incr+i-1])\n",
    "                last_increasing = False # reset\n",
    "                loc_max = x\n",
    "            else: # keeps decreasing\n",
    "                loc_max = x\n",
    "                last_increasing = False\n",
    "                \n",
    "        else: # leveling\n",
    "            if last_increasing == False:\n",
    "                loc_max = x\n",
    "            else:\n",
    "                return('Here should keep the first point of plateau')\n",
    "                \n",
    "        \n",
    "\n",
    "    return({'pos': pos, 'peaks': peaks})\n",
    "    \n",
    "    \n",
    "    \n",
    "pick_peaks([1,2,3,6,4,1,2,3,2,1]) # {\"pos\":[3,7], \"peaks\":[6,3]}"
   ]
  },
  {
   "cell_type": "code",
   "execution_count": 47,
   "metadata": {
    "collapsed": false
   },
   "outputs": [
    {
     "data": {
      "text/plain": [
       "1"
      ]
     },
     "execution_count": 47,
     "metadata": {},
     "output_type": "execute_result"
    }
   ],
   "source": [
    "a = [3,1,2,3,6,4,1,2,3,2,1]\n",
    "#a[a.index(a(x))]\n",
    "next(i for i in range(len(a)) if a[i + 1] > a[i])"
   ]
  },
  {
   "cell_type": "code",
   "execution_count": 52,
   "metadata": {
    "collapsed": false
   },
   "outputs": [
    {
     "name": "stdout",
     "output_type": "stream",
     "text": [
      "0 1\n",
      "1 2\n",
      "2 3\n",
      "3 2\n",
      "4 1\n"
     ]
    },
    {
     "data": {
      "text/plain": [
       "[None, None, None, None, None]"
      ]
     },
     "execution_count": 52,
     "metadata": {},
     "output_type": "execute_result"
    }
   ],
   "source": [
    "[print(i, x) for (i, x) in enumerate(a[6:])]"
   ]
  }
 ],
 "metadata": {
  "kernelspec": {
   "display_name": "Python 3",
   "language": "python",
   "name": "python3"
  },
  "language_info": {
   "codemirror_mode": {
    "name": "ipython",
    "version": 3
   },
   "file_extension": ".py",
   "mimetype": "text/x-python",
   "name": "python",
   "nbconvert_exporter": "python",
   "pygments_lexer": "ipython3",
   "version": "3.6.0"
  }
 },
 "nbformat": 4,
 "nbformat_minor": 2
}
