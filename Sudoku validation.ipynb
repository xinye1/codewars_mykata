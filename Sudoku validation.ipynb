{
 "cells": [
  {
   "cell_type": "code",
   "execution_count": 61,
   "metadata": {
    "collapsed": false
   },
   "outputs": [
    {
     "name": "stdout",
     "output_type": "stream",
     "text": [
      "sorted method on list: ['2', '3', 'True']\n",
      "sorted method on string: ['0', '4', '4', '5', 'd', 'f', 'f', 'i', 'j', 'k', 'o']\n",
      "sort method on list: None\n",
      "['2', '3', 'True']\n"
     ]
    }
   ],
   "source": [
    "ls = ['True', '2', '3']\n",
    "string = 'fdkfj04oi45'\n",
    "print('sorted method on list: {}'.format(sorted(ls)))\n",
    "print('sorted method on string: {}'.format(sorted(string)))\n",
    "print('sort method on list: {}'.format(ls.sort()))\n",
    "print(ls)\n",
    "# .sort() is a method only to list, not any other iteratable things print('sort method on string: {}'.format(string.sort()))"
   ]
  },
  {
   "cell_type": "code",
   "execution_count": 79,
   "metadata": {
    "collapsed": false
   },
   "outputs": [
    {
     "data": {
      "text/plain": [
       "[([0, 3], [0, 3]),\n",
       " ([0, 3], [3, 6]),\n",
       " ([0, 3], [6, 9]),\n",
       " ([3, 6], [0, 3]),\n",
       " ([3, 6], [3, 6]),\n",
       " ([3, 6], [6, 9]),\n",
       " ([6, 9], [0, 3]),\n",
       " ([6, 9], [3, 6]),\n",
       " ([6, 9], [6, 9])]"
      ]
     },
     "execution_count": 79,
     "metadata": {},
     "output_type": "execute_result"
    }
   ],
   "source": [
    "[([x, x + 3], [y, y + 3]) for x in range(0, 7, 3) for y in range(0, 7, 3)]"
   ]
  },
  {
   "cell_type": "code",
   "execution_count": 99,
   "metadata": {
    "collapsed": false
   },
   "outputs": [
    {
     "data": {
      "text/plain": [
       "True"
      ]
     },
     "execution_count": 99,
     "metadata": {},
     "output_type": "execute_result"
    }
   ],
   "source": [
    "import numpy as np\n",
    "def validSolution(board):\n",
    "    if any([x == 0 for row in board for x in row]):\n",
    "        return False\n",
    "    else:\n",
    "        board_ar = np.array(board)\n",
    "        sqs = all([sorted(board_ar[i:(i+3), j:(j+3)].flatten()) == list(range(1, 10)) for i in [0, 3, 6] for j in [0, 3, 6]])\n",
    "        rows = all([sorted(board_ar[i, :].flatten()) == list(range(1, 10)) for i in range(9)])\n",
    "        cols = all([sorted(board_ar[:, j].flatten()) == list(range(1, 10)) for j in range(9)])\n",
    "        return all([sqs, rows, cols])\n",
    "        \n",
    "        \n",
    "        \n",
    "        \n",
    "validSolution([[5, 3, 4, 6, 7, 8, 9, 1, 2], \n",
    "               [6, 7, 2, 1, 9, 5, 3, 4, 8],\n",
    "               [1, 9, 8, 3, 4, 2, 5, 6, 7],\n",
    "               [8, 5, 9, 7, 6, 1, 4, 2, 3],\n",
    "               [4, 2, 6, 8, 5, 3, 7, 9, 1],\n",
    "               [7, 1, 3, 9, 2, 4, 8, 5, 6],\n",
    "               [9, 6, 1, 5, 3, 7, 2, 8, 4],\n",
    "               [2, 8, 7, 4, 1, 9, 6, 3, 5],\n",
    "               [3, 4, 5, 2, 8, 6, 1, 7, 9]])"
   ]
  },
  {
   "cell_type": "code",
   "execution_count": 99,
   "metadata": {
    "collapsed": false
   },
   "outputs": [
    {
     "data": {
      "text/plain": [
       "True"
      ]
     },
     "execution_count": 99,
     "metadata": {},
     "output_type": "execute_result"
    }
   ],
   "source": [
    "import numpy as np\n",
    "def validSolution(board):\n",
    "    board_ar = np.array(board)\n",
    "    sqs = all([sorted(board_ar[i:(i+3), j:(j+3)].flatten()) == list(range(1, 10)) for i in [0, 3, 6] for j in [0, 3, 6]])\n",
    "    rows = all([sorted(board_ar[i, :].flatten()) == list(range(1, 10)) for i in range(9)])\n",
    "    cols = all([sorted(board_ar[:, j].flatten()) == list(range(1, 10)) for j in range(9)])\n",
    "    return all([sqs, rows, cols])\n",
    "        \n",
    "        \n",
    "        \n",
    "        \n",
    "validSolution([[5, 3, 4, 6, 7, 8, 9, 1, 2], \n",
    "               [6, 7, 2, 1, 9, 5, 3, 4, 8],\n",
    "               [1, 9, 8, 3, 4, 2, 5, 6, 7],\n",
    "               [8, 5, 9, 7, 6, 1, 4, 2, 3],\n",
    "               [4, 2, 6, 8, 5, 3, 7, 9, 1],\n",
    "               [7, 1, 3, 9, 2, 4, 8, 5, 6],\n",
    "               [9, 6, 1, 5, 3, 7, 2, 8, 4],\n",
    "               [2, 8, 7, 4, 1, 9, 6, 3, 5],\n",
    "               [3, 4, 5, 2, 8, 6, 1, 7, 9]])"
   ]
  }
 ],
 "metadata": {
  "kernelspec": {
   "display_name": "Python 3",
   "language": "python",
   "name": "python3"
  },
  "language_info": {
   "codemirror_mode": {
    "name": "ipython",
    "version": 3
   },
   "file_extension": ".py",
   "mimetype": "text/x-python",
   "name": "python",
   "nbconvert_exporter": "python",
   "pygments_lexer": "ipython3",
   "version": "3.6.0"
  }
 },
 "nbformat": 4,
 "nbformat_minor": 2
}
