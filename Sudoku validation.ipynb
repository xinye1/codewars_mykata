{
 "cells": [
  {
   "cell_type": "code",
   "execution_count": 16,
   "metadata": {
    "collapsed": false
   },
   "outputs": [
    {
     "data": {
      "text/plain": [
       "\"there's a zero!\""
      ]
     },
     "execution_count": 16,
     "metadata": {},
     "output_type": "execute_result"
    }
   ],
   "source": [
    "def validSolution(board):\n",
    "    if any([x == 0 for row in board for x in row]):\n",
    "        return 'there\\'s a zero!'\n",
    "    else:\n",
    "        return 'there\\'s not zero..'\n",
    "validSolution([[5, 3, 4, 6, 7, 8, 9, 1, 2], \n",
    "               [6, 7, 2, 1, 9, 5, 3, 4, 8],\n",
    "               [1, 9, 8, 3, 4, 2, 5, 6, 7],\n",
    "               [8, 5, 9, 7, 6, 1, 4, 2, 3],\n",
    "               [4, 2, 6, 8, 5, 3, 7, 9, 1],\n",
    "               [7, 1, 3, 9, 2, 4, 8, 5, 6],\n",
    "               [9, 6, 1, 5, 3, 7, 2, 8, 4],\n",
    "               [2, 8, 7, 4, 1, 9, 6, 3, 5],\n",
    "               [3, 4, 5, 2, 8, 6, 1, 7, 9]])"
   ]
  }
 ],
 "metadata": {
  "kernelspec": {
   "display_name": "Python 3",
   "language": "python",
   "name": "python3"
  },
  "language_info": {
   "codemirror_mode": {
    "name": "ipython",
    "version": 3
   },
   "file_extension": ".py",
   "mimetype": "text/x-python",
   "name": "python",
   "nbconvert_exporter": "python",
   "pygments_lexer": "ipython3",
   "version": "3.6.0"
  }
 },
 "nbformat": 4,
 "nbformat_minor": 2
}
