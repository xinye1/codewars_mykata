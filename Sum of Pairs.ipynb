{
 "cells": [
  {
   "cell_type": "markdown",
   "metadata": {},
   "source": [
    "### Sum of Pairs\n",
    "\n",
    "Given a list of integers and a single sum value, return the first two values (parse from the left please) in order of appearance that add up to form the sum.\n",
    "```python\n",
    "sum_pairs([11, 3, 7, 5],         10)\n",
    "#              ^--^      3 + 7 = 10\n",
    "== [3, 7]\n",
    "\n",
    "sum_pairs([4, 3, 2, 3, 4],         6)\n",
    "#          ^-----^         4 + 2 = 6, indices: 0, 2 *\n",
    "#             ^-----^      3 + 3 = 6, indices: 1, 3\n",
    "#                ^-----^   2 + 4 = 6, indices: 2, 4\n",
    "#  * entire pair is earlier, and therefore is the correct answer\n",
    "== [4, 2]\n",
    "\n",
    "sum_pairs([0, 0, -2, 3], 2)\n",
    "#  there are no pairs of values that can be added to produce 2.\n",
    "== None/nil/undefined (Based on the language)\n",
    "\n",
    "sum_pairs([10, 5, 2, 3, 7, 5],         10)\n",
    "#              ^-----------^   5 + 5 = 10, indices: 1, 5\n",
    "#                    ^--^      3 + 7 = 10, indices: 3, 4 *\n",
    "#  * entire pair is earlier, and therefore is the correct answer\n",
    "== [3, 7]\n",
    "```\n",
    "Negative numbers and duplicate numbers can and will appear.\n",
    "\n",
    "NOTE: There will also be lists tested of lengths upwards of 10,000,000 elements. Be sure your code doesn't time out."
   ]
  },
  {
   "cell_type": "code",
   "execution_count": 20,
   "metadata": {
    "collapsed": false
   },
   "outputs": [
    {
     "data": {
      "text/plain": [
       "[1, 7]"
      ]
     },
     "execution_count": 20,
     "metadata": {},
     "output_type": "execute_result"
    }
   ],
   "source": [
    "def sum_pairs(ints, s):\n",
    "    #return [[x_val, y_val] for x, x_val in enumerate(ints) for y, y_val in enumerate(ints) if x < y and x_val + y_val == s][0]\n",
    "    out_ind2 = []\n",
    "    out_ls = []\n",
    "    for x, x_val in enumerate(ints):\n",
    "        for y, y_val in enumerate(ints):\n",
    "            if x_val + y_val == s and x < y:\n",
    "                out_ls.append([x_val, y_val])\n",
    "                out_ind2.append(y)\n",
    "    if out_ind2 != []:\n",
    "        return out_ls[out_ind2.index(min(out_ind2))]\n",
    "    else:\n",
    "        return None\n",
    "    \n",
    "l1= [1, 4, 8, 7, 3, 15]\n",
    "sum_pairs(l1, 8)"
   ]
  },
  {
   "cell_type": "markdown",
   "metadata": {},
   "source": [
    "Need to optimise the above algo: change enumerate to simple list index"
   ]
  },
  {
   "cell_type": "code",
   "execution_count": 25,
   "metadata": {
    "collapsed": false
   },
   "outputs": [
    {
     "data": {
      "text/plain": [
       "[3, 7]"
      ]
     },
     "execution_count": 25,
     "metadata": {},
     "output_type": "execute_result"
    }
   ],
   "source": [
    "def sum_pairs(ints, s):\n",
    "    #return [[x_val, y_val] for x, x_val in enumerate(ints) for y, y_val in enumerate(ints) if x < y and x_val + y_val == s][0]\n",
    "    out_ind2 = []\n",
    "    out_ls = []\n",
    "    for x in range(len(ints)):\n",
    "        for y in range((x+1), len(ints)):\n",
    "            if ints[x] + ints[y] == s:\n",
    "                out_ls.append([ints[x], ints[y]])\n",
    "                out_ind2.append(y)\n",
    "    if out_ind2 != []:\n",
    "        return out_ls[out_ind2.index(min(out_ind2))]\n",
    "    else:\n",
    "        return None\n",
    "    \n",
    "l1= [10, 5, 2, 3, 7, 5]\n",
    "sum_pairs(l1, 10)"
   ]
  },
  {
   "cell_type": "markdown",
   "metadata": {},
   "source": [
    "The above is still not good enough, improvement: change the end point for each y iteration, and reduce out_ind2 and out_ls to single elements, not lists."
   ]
  },
  {
   "cell_type": "code",
   "execution_count": 54,
   "metadata": {
    "collapsed": false
   },
   "outputs": [
    {
     "data": {
      "text/plain": [
       "[3, 7]"
      ]
     },
     "execution_count": 54,
     "metadata": {},
     "output_type": "execute_result"
    }
   ],
   "source": [
    "def sum_pairs(ints, s):\n",
    "    out_ind2 = len(ints)\n",
    "    out_ls = None\n",
    "    for x in range(len(ints)):\n",
    "        for y in range((x+1), out_ind2):\n",
    "            if ints[x] + ints[y] == s:\n",
    "                out_ls = [ints[x], ints[y]]\n",
    "                out_ind2 = y\n",
    "    return out_ls\n",
    "    \n",
    "\n",
    "sum_pairs([10, 5, 2, 3, 7, 5], 10)"
   ]
  },
  {
   "cell_type": "markdown",
   "metadata": {},
   "source": [
    "Passed all tests but not the attempt, error message:\n",
    "```log\n",
    "Time: 2071ms Passed: 0 Failed: 0\n",
    "Response received but no data was written to STDOUT or STDERR.\n",
    "SIGKILL\n",
    "Process exited prematurally with a SIGKILL signal.\n",
    "```"
   ]
  }
 ],
 "metadata": {
  "kernelspec": {
   "display_name": "Python 3",
   "language": "python",
   "name": "python3"
  },
  "language_info": {
   "codemirror_mode": {
    "name": "ipython",
    "version": 3
   },
   "file_extension": ".py",
   "mimetype": "text/x-python",
   "name": "python",
   "nbconvert_exporter": "python",
   "pygments_lexer": "ipython3",
   "version": "3.6.0"
  }
 },
 "nbformat": 4,
 "nbformat_minor": 2
}
