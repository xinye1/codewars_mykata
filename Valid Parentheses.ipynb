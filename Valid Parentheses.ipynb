{
 "cells": [
  {
   "cell_type": "code",
   "execution_count": 28,
   "metadata": {
    "collapsed": false
   },
   "outputs": [
    {
     "name": "stdout",
     "output_type": "stream",
     "text": [
      "True\n",
      "False\n"
     ]
    }
   ],
   "source": [
    "import re\n",
    "def valid_parentheses(string):\n",
    "    par = {')': '('}\n",
    "    string = re.sub(r'[^()]', '', string)\n",
    "\n",
    "    while string != '':\n",
    "        pairs = [x for x in range(len(string) - 1) if string[x] + string[x + 1] == '()']\n",
    "        if len(pairs) == 0:\n",
    "            return False\n",
    "        else:\n",
    "            for x in pairs:\n",
    "                string = string.replace('()', '')\n",
    "    \n",
    "    return True\n",
    "    \n",
    "    \n",
    "print(valid_parentheses('hi(hi)()'))\n",
    "print(valid_parentheses('hi())('))"
   ]
  },
  {
   "cell_type": "markdown",
   "metadata": {},
   "source": [
    "Best solution for me so far"
   ]
  },
  {
   "cell_type": "code",
   "execution_count": 36,
   "metadata": {
    "collapsed": false
   },
   "outputs": [
    {
     "name": "stdout",
     "output_type": "stream",
     "text": [
      "True\n",
      "False\n"
     ]
    }
   ],
   "source": [
    "import re\n",
    "def valid_parentheses(string):\n",
    "    string = re.sub(r'[^()]', '', string)\n",
    "\n",
    "    while string.find('()') != -1:\n",
    "        string = string.replace('()', '')\n",
    "        \n",
    "    return len(string) == 0\n",
    "    \n",
    "    \n",
    "print(valid_parentheses('hi(hi)()'))\n",
    "print(valid_parentheses('hi())('))"
   ]
  },
  {
   "cell_type": "markdown",
   "metadata": {},
   "source": [
    "The following solution doesn't work for all tests"
   ]
  },
  {
   "cell_type": "code",
   "execution_count": 82,
   "metadata": {
    "collapsed": false
   },
   "outputs": [
    {
     "name": "stdout",
     "output_type": "stream",
     "text": [
      "True\n",
      "False\n"
     ]
    }
   ],
   "source": [
    "import re\n",
    "def valid_parentheses(string):\n",
    "    out = re.sub(r'\\([^\\(\\)]*\\)', '', string)\n",
    "    return re.findall(r'[\\(\\)]', out) == []\n",
    "    #print(out)\n",
    "    \n",
    "    \n",
    "print(valid_parentheses('hi(hi)()'))\n",
    "print(valid_parentheses('hi())(_'))"
   ]
  },
  {
   "cell_type": "code",
   "execution_count": 68,
   "metadata": {
    "collapsed": false
   },
   "outputs": [
    {
     "data": {
      "text/plain": [
       "'))_'"
      ]
     },
     "execution_count": 68,
     "metadata": {},
     "output_type": "execute_result"
    }
   ],
   "source": [
    "string = '(something)()))_'\n",
    "re.sub(r'\\([^\\(\\)]*\\)', '', string)"
   ]
  }
 ],
 "metadata": {
  "kernelspec": {
   "display_name": "Python 3",
   "language": "python",
   "name": "python3"
  },
  "language_info": {
   "codemirror_mode": {
    "name": "ipython",
    "version": 3
   },
   "file_extension": ".py",
   "mimetype": "text/x-python",
   "name": "python",
   "nbconvert_exporter": "python",
   "pygments_lexer": "ipython3",
   "version": "3.6.0"
  }
 },
 "nbformat": 4,
 "nbformat_minor": 2
}
