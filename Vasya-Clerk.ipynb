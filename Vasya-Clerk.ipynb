{
 "cells": [
  {
   "cell_type": "code",
   "execution_count": 160,
   "metadata": {
    "collapsed": false
   },
   "outputs": [],
   "source": [
    "def tickets(people):\n",
    "    balance = {25: 0, 50: 0, 100: 0}\n",
    "    for i in range(len(people)):\n",
    "        print('{}. Balance\\t= {}, payment\\t= {}'.format(i + 1, balance, people[i]))\n",
    "        if people[i] == 25:\n",
    "            balance[people[i]] += 1\n",
    "        elif people[i] == 50:\n",
    "            if balance[25] >= 1:\n",
    "                balance[50] += 1\n",
    "                balance[25] -= 1\n",
    "            else:\n",
    "                return 'NO'\n",
    "        elif people[i] == 100:\n",
    "            if balance[25] >= 3:\n",
    "                balance[25] -= 3\n",
    "                balance[100] += 1\n",
    "            elif balance[25] >= 1 and balance[50] >= 1:\n",
    "                balance[50] -= 1\n",
    "                balance[25] -= 1\n",
    "                balance[100] += 1\n",
    "            else:\n",
    "                return 'NO'\n",
    "        else:\n",
    "            return 'Value errors'\n",
    "        print('{}. New balance\\t= {}, balance value\\t= {}\\n'.format(\\\n",
    "            i + 1, balance, sum([x * y for (x, y) in zip(balance.keys(), balance.values())])))\n",
    "    return 'YES'"
   ]
  },
  {
   "cell_type": "code",
   "execution_count": 169,
   "metadata": {
    "collapsed": false
   },
   "outputs": [
    {
     "name": "stdout",
     "output_type": "stream",
     "text": [
      "1. Balance\t= {25: 0, 50: 0, 100: 0}, payment\t= 25\n",
      "1. New balance\t= {25: 1, 50: 0, 100: 0}, balance value\t= 25\n",
      "\n",
      "2. Balance\t= {25: 1, 50: 0, 100: 0}, payment\t= 25\n",
      "2. New balance\t= {25: 2, 50: 0, 100: 0}, balance value\t= 50\n",
      "\n",
      "3. Balance\t= {25: 2, 50: 0, 100: 0}, payment\t= 50\n",
      "3. New balance\t= {25: 1, 50: 1, 100: 0}, balance value\t= 75\n",
      "\n",
      "4. Balance\t= {25: 1, 50: 1, 100: 0}, payment\t= 50\n",
      "4. New balance\t= {25: 0, 50: 2, 100: 0}, balance value\t= 100\n",
      "\n",
      "5. Balance\t= {25: 0, 50: 2, 100: 0}, payment\t= 25\n",
      "5. New balance\t= {25: 1, 50: 2, 100: 0}, balance value\t= 125\n",
      "\n",
      "6. Balance\t= {25: 1, 50: 2, 100: 0}, payment\t= 50\n",
      "6. New balance\t= {25: 0, 50: 3, 100: 0}, balance value\t= 150\n",
      "\n",
      "7. Balance\t= {25: 0, 50: 3, 100: 0}, payment\t= 25\n",
      "7. New balance\t= {25: 1, 50: 3, 100: 0}, balance value\t= 175\n",
      "\n",
      "8. Balance\t= {25: 1, 50: 3, 100: 0}, payment\t= 100\n",
      "8. New balance\t= {25: 0, 50: 2, 100: 1}, balance value\t= 200\n",
      "\n",
      "9. Balance\t= {25: 0, 50: 2, 100: 1}, payment\t= 50\n",
      "NO\n"
     ]
    }
   ],
   "source": [
    "print(tickets([25, 25, 50, 50, 25, 50, 25, 100, 50]))"
   ]
  }
 ],
 "metadata": {
  "kernelspec": {
   "display_name": "Python 3",
   "language": "python",
   "name": "python3"
  },
  "language_info": {
   "codemirror_mode": {
    "name": "ipython",
    "version": 3
   },
   "file_extension": ".py",
   "mimetype": "text/x-python",
   "name": "python",
   "nbconvert_exporter": "python",
   "pygments_lexer": "ipython3",
   "version": "3.6.0"
  }
 },
 "nbformat": 4,
 "nbformat_minor": 2
}
