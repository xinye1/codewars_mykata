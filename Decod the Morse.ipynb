{
 "cells": [
  {
   "cell_type": "code",
   "execution_count": 5,
   "metadata": {
    "collapsed": true
   },
   "outputs": [],
   "source": [
    "MORSE_CODE = {'..-.': 'F', '-..-': 'X',\n",
    "    '.--.': 'P', '-': 'T', '..---': '2',\n",
    "    '....-': '4', '-----': '0', '--...': '7',\n",
    "    '...-': 'V', '-.-.': 'C', '.': 'E', '.---': 'J',\n",
    "    '---': 'O', '-.-': 'K', '----.': '9', '..': 'I',\n",
    "    '.-..': 'L', '.....': '5', '...--': '3', '-.--': 'Y',\n",
    "    '-....': '6', '.--': 'W', '....': 'H', '-.': 'N', '.-.': 'R',\n",
    "    '-...': 'B', '---..': '8', '--..': 'Z', '-..': 'D', '--.-': 'Q',\n",
    "    '--.': 'G', '--': 'M', '..-': 'U', '.-': 'A', '...': 'S', '.----': '1'}"
   ]
  },
  {
   "cell_type": "code",
   "execution_count": 34,
   "metadata": {
    "collapsed": false
   },
   "outputs": [],
   "source": [
    "def decodeMorse(morseCode):\n",
    "    #return morseCode.replace('.', MORSE_CODE['.']).replace('-', MORSE_CODE['-']).replace(' ', '')\n",
    "    letter_list = [x.split(' ') for x in morseCode.strip().split('   ')]\n",
    "    words = []\n",
    "    for word in letter_list:\n",
    "        words.append(''.join([MORSE_CODE[letter] for letter in word]))\n",
    "    out = ' '.join(words)\n",
    "    return(out)"
   ]
  },
  {
   "cell_type": "code",
   "execution_count": 35,
   "metadata": {
    "collapsed": false
   },
   "outputs": [
    {
     "data": {
      "text/plain": [
       "'AB CD'"
      ]
     },
     "execution_count": 35,
     "metadata": {},
     "output_type": "execute_result"
    }
   ],
   "source": [
    "decodeMorse('.- -...   -.-. -..')"
   ]
  }
 ],
 "metadata": {
  "kernelspec": {
   "display_name": "Python 3",
   "language": "python",
   "name": "python3"
  },
  "language_info": {
   "codemirror_mode": {
    "name": "ipython",
    "version": 3
   },
   "file_extension": ".py",
   "mimetype": "text/x-python",
   "name": "python",
   "nbconvert_exporter": "python",
   "pygments_lexer": "ipython3",
   "version": "3.6.0"
  }
 },
 "nbformat": 4,
 "nbformat_minor": 2
}
